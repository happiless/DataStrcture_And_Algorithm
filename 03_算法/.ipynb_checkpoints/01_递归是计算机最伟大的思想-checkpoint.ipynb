{
 "cells": [
  {
   "cell_type": "markdown",
   "id": "overall-treasury",
   "metadata": {},
   "source": [
    "### 1. 全排列"
   ]
  },
  {
   "cell_type": "code",
   "execution_count": 5,
   "id": "brave-holmes",
   "metadata": {},
   "outputs": [],
   "source": [
    "def permutation(elements):\n",
    "    if len(elements) == 0: return [[]]\n",
    "    head = elements[0]\n",
    "    remain_parts_result = permutation(elements[1:])\n",
    "    \n",
    "    return [r[:i] + [head] + r[i:] for i in range(len(elements)) for r in remain_parts_result]"
   ]
  },
  {
   "cell_type": "code",
   "execution_count": 11,
   "id": "imperial-india",
   "metadata": {},
   "outputs": [
    {
     "data": {
      "text/plain": [
       "24"
      ]
     },
     "execution_count": 11,
     "metadata": {},
     "output_type": "execute_result"
    }
   ],
   "source": [
    "len(permutation(['我', '很', '高', '兴']))"
   ]
  },
  {
   "cell_type": "markdown",
   "id": "ongoing-wednesday",
   "metadata": {},
   "source": [
    "### 1. Merge Sort 归并排序"
   ]
  },
  {
   "cell_type": "code",
   "execution_count": 21,
   "id": "psychological-iceland",
   "metadata": {},
   "outputs": [],
   "source": [
    "def merge_sort(elements):\n",
    "    \n",
    "    if len(elements) == 1: return elements\n",
    "    \n",
    "    mid = len(elements) // 2\n",
    "    \n",
    "    left, right = merge_sort(elements[:mid]), merge_sort(elements[mid:])\n",
    "    sorted_result = []\n",
    "    while left and right:\n",
    "        left_head = left[0]\n",
    "        right_head = right[0]\n",
    "        if left_head < right_head:\n",
    "            sorted_result.append(left_head)\n",
    "            left.pop(0)\n",
    "        else:\n",
    "            sorted_result.append(right_head)\n",
    "            right.pop(0)\n",
    "    sorted_result += (left or right)\n",
    "    \n",
    "    return sorted_result"
   ]
  },
  {
   "cell_type": "code",
   "execution_count": 22,
   "id": "numeric-anime",
   "metadata": {},
   "outputs": [
    {
     "data": {
      "text/plain": [
       "[1, 2, 3, 4, 5, 6, 7, 8, 9]"
      ]
     },
     "execution_count": 22,
     "metadata": {},
     "output_type": "execute_result"
    }
   ],
   "source": [
    "arr = [8, 5, 6, 9, 3, 4, 1, 2, 7]\n",
    "merge_sort(arr)"
   ]
  },
  {
   "cell_type": "markdown",
   "id": "negative-above",
   "metadata": {},
   "source": [
    "### 3. Quick Sort 快速排序"
   ]
  },
  {
   "cell_type": "code",
   "execution_count": 23,
   "id": "tested-livestock",
   "metadata": {},
   "outputs": [],
   "source": [
    "import random\n",
    "def quick_sort(elements):\n",
    "    if not elements: return []\n",
    "    pivot = random.choice(elements)\n",
    "    left = quick_sort([e for e in elements if e < pivot])\n",
    "    right = quick_sort([e for e in elements if e > pivot])\n",
    "    return left + [pivot] + right"
   ]
  },
  {
   "cell_type": "code",
   "execution_count": 24,
   "id": "extraordinary-proportion",
   "metadata": {},
   "outputs": [
    {
     "data": {
      "text/plain": [
       "[1, 2, 3, 4, 5, 6, 7, 8, 9]"
      ]
     },
     "execution_count": 24,
     "metadata": {},
     "output_type": "execute_result"
    }
   ],
   "source": [
    "quick_sort(arr)"
   ]
  },
  {
   "cell_type": "markdown",
   "id": "lesbian-camping",
   "metadata": {},
   "source": [
    "### 4. Graph Traverse 图遍历问题"
   ]
  },
  {
   "cell_type": "code",
   "execution_count": 52,
   "id": "choice-union",
   "metadata": {},
   "outputs": [
    {
     "data": {
      "image/png": "[encoded data removed]",
      "text/plain": [
       "<Figure size 432x288 with 1 Axes>"
      ]
     },
     "metadata": {},
     "output_type": "display_data"
    }
   ],
   "source": [
    "simple_graph = {\n",
    "    'A': 'B C D'.split(), \n",
    "    'B': 'A'.split(), \n",
    "    'C': 'A E'.split(),\n",
    "    'D': 'A'.split(), \n",
    "    'E': 'F C G W'.split(),\n",
    "    'W': 'E'.split(), \n",
    "    'F': 'H I E'.split(), \n",
    "    'G': 'H E'.split(), \n",
    "    'H': 'I F G'.split(), \n",
    "    'I': 'F H'\n",
    "}\n",
    "import networkx as nx\n",
    "nx.draw(nx.Graph(simple_graph), with_labels=True)"
   ]
  },
  {
   "cell_type": "code",
   "execution_count": 55,
   "id": "offshore-diamond",
   "metadata": {},
   "outputs": [],
   "source": [
    "def traverse(start, graph):\n",
    "    if not graph: return [start]\n",
    "    sub_graph_root = graph[start]\n",
    "    graph.pop(start)\n",
    "    result = [start]\n",
    "    for r in sub_graph_root:\n",
    "        \n",
    "        if r not in graph: \n",
    "            continue\n",
    "        result += traverse(r, graph)\n",
    "    return result"
   ]
  },
  {
   "cell_type": "code",
   "execution_count": 56,
   "id": "developing-warrant",
   "metadata": {},
   "outputs": [
    {
     "data": {
      "text/plain": [
       "['D', 'A', 'B', 'C', 'E', 'F', 'H', 'I', 'G', 'W']"
      ]
     },
     "execution_count": 56,
     "metadata": {},
     "output_type": "execute_result"
    }
   ],
   "source": [
    "tmp_graph = simple_graph.copy()\n",
    "traverse('D', tmp_graph)"
   ]
  },
  {
   "cell_type": "markdown",
   "id": "proper-spray",
   "metadata": {},
   "source": [
    "### 5. Edit Distance 编辑距离问题"
   ]
  },
  {
   "cell_type": "code",
   "execution_count": 100,
   "id": "honey-grave",
   "metadata": {},
   "outputs": [],
   "source": [
    "from functools import lru_cache\n",
    "solution = {}\n",
    "\n",
    "@lru_cache(maxsize=2 ** 10)\n",
    "def edit_distance(string1, string2):\n",
    "    if len(string1) == 0: return len(string2)\n",
    "    if len(string2) == 0: return len(string1)\n",
    "    candidate = []\n",
    "    if string1[-1] == string2[-1]:\n",
    "        string1_2_decrease = (edit_distance(string1[:-1], string2[:-1]), '继续向前 ')\n",
    "    else:\n",
    "        string1_2_decrease = (edit_distance(string1[:-1], string2[:-1]) + 1, f\"替换 {string1[-1]}, {string2[-1]}\")\n",
    "    \n",
    "    string1_decrease_string2_keep = (edit_distance(string1[:-1], string2) + 1, f\"删除 {string1[-1]}\")\n",
    "    string1_keep_string2_decrease = (edit_distance(string1, string2[:-1]) + 1, f\"增加 {string2[-1]}\")\n",
    "    \n",
    "    candidate = [string1_2_decrease, string1_decrease_string2_keep, string1_keep_string2_decrease]\n",
    "    \n",
    "    min_distance, operation = min(candidate, key=lambda x: x[0])\n",
    "    solution[(string1, string2)] = operation\n",
    "    \n",
    "    return min_distance\n",
    "\n",
    "def parse_solution(string1, string2, record):\n",
    "    if len(string1) == len(string2) == 1: return [record[(string1, string2)]]\n",
    "    operations = {\n",
    "        '替换': (-1, -1), \n",
    "        '继续向前': (-1, -1), \n",
    "        '增加': (None, -1), \n",
    "        '删除': (-1, None)\n",
    "    }\n",
    "    operation = record[(string1, string2)]\n",
    "    op = operation.split()[0]\n",
    "    s1_i, s2_i = operations[op]\n",
    "    \n",
    "    return [operation] + parse_solution(string1[:s1_i], string2[:s2_i], record)"
   ]
  },
  {
   "cell_type": "code",
   "execution_count": 105,
   "id": "quiet-polish",
   "metadata": {},
   "outputs": [
    {
     "name": "stdout",
     "output_type": "stream",
     "text": [
      "2\n",
      "替换 t, k\n",
      "继续向前 \n",
      "继续向前 \n",
      "替换 T, D\n"
     ]
    }
   ],
   "source": [
    "string1 = \"Test\"\n",
    "string2 = \"Desk\"\n",
    "\n",
    "print(edit_distance(string1, string2))\n",
    "for op in parse_solution(string1, string2, solution):\n",
    "    print(op)"
   ]
  },
  {
   "cell_type": "markdown",
   "id": "severe-kelly",
   "metadata": {},
   "source": [
    "### 7. 过滤重复值"
   ]
  },
  {
   "cell_type": "code",
   "execution_count": 108,
   "id": "arranged-exhibition",
   "metadata": {},
   "outputs": [],
   "source": [
    "def filter_pattern(elements):\n",
    "    if not elements: return []\n",
    "    for i in range(len(elements) // 2, 0, -1):\n",
    "        elements_remain = elements[i:]\n",
    "        if elements_remain[:i] == elements[:i]:\n",
    "            return filter_pattern(elements_remain)\n",
    "    return [elements[0]] + filter_pattern(elements[1:])"
   ]
  },
  {
   "cell_type": "code",
   "execution_count": 111,
   "id": "flexible-thing",
   "metadata": {},
   "outputs": [
    {
     "data": {
      "text/plain": [
       "'这家店真的很好吃呀, 真的很嘻和嘻喜欢'"
      ]
     },
     "execution_count": 111,
     "metadata": {},
     "output_type": "execute_result"
    }
   ],
   "source": [
    "''.join(filter_pattern('这家店真的很好很好吃呀, 真的很嘻嘻嘻嘻嘻和嘻嘻嘻喜欢'))"
   ]
  },
  {
   "cell_type": "markdown",
   "id": "least-spice",
   "metadata": {},
   "source": [
    "### 7. Enginee / Scientist\n",
    "- 1. 暴力穷举\n",
    "- 2. 分而治之\n",
    "- 3. 随机化\n",
    "- 4. 逐步迭代"
   ]
  },
  {
   "cell_type": "code",
   "execution_count": 62,
   "id": "mineral-grace",
   "metadata": {},
   "outputs": [],
   "source": [
    "nest = ((1, 2, ((((3, 4))))), (5, 6, (((((((7, 8)))))))))\n",
    "def flatten(elements):\n",
    "    if not elements: return []\n",
    "    if not isinstance(elements, tuple): return [elements]\n",
    "    else:\n",
    "        return flatten(elements[0]) + flatten(elements[1:])"
   ]
  },
  {
   "cell_type": "code",
   "execution_count": 63,
   "id": "protected-cooler",
   "metadata": {},
   "outputs": [
    {
     "data": {
      "text/plain": [
       "[1, 2, 3, 4, 5, 6, 7, 8]"
      ]
     },
     "execution_count": 63,
     "metadata": {},
     "output_type": "execute_result"
    }
   ],
   "source": [
    "flatten(nest)"
   ]
  },
  {
   "cell_type": "code",
   "execution_count": null,
   "id": "automotive-synthesis",
   "metadata": {},
   "outputs": [],
   "source": []
  }
 ],
 "metadata": {
  "kernelspec": {
   "display_name": "Python 3",
   "language": "python",
   "name": "python3"
  },
  "language_info": {
   "codemirror_mode": {
    "name": "ipython",
    "version": 3
   },
   "file_extension": ".py",
   "mimetype": "text/x-python",
   "name": "python",
   "nbconvert_exporter": "python",
   "pygments_lexer": "ipython3",
   "version": "3.8.0"
  }
 },
 "nbformat": 4,
 "nbformat_minor": 5
}
