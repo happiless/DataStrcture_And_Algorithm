{
 "cells": [
  {
   "cell_type": "markdown",
   "id": "roman-olympus",
   "metadata": {},
   "source": [
    "动态规划的核心: 找出子问题及其子问题与原问题的关系 <br>\n",
    "关键点: \n",
    "1. 证明问题的方案中包含一种选择，选择之后留下一个或多个子问题\n",
    "2. 设计子问题的递归描述方式\n",
    "3. 证明对原问题的最优解包括了对所有子问题的最优解\n",
    "4. 证明子问题是重叠的（这一步不是动态规划正确性必需的，但是如果子问题无重叠，则效率与一般递归是相同的）\n"
   ]
  },
  {
   "cell_type": "code",
   "execution_count": null,
   "id": "burning-giant",
   "metadata": {},
   "outputs": [],
   "source": []
  },
  {
   "cell_type": "code",
   "execution_count": null,
   "id": "immediate-likelihood",
   "metadata": {},
   "outputs": [],
   "source": []
  }
 ],
 "metadata": {
  "kernelspec": {
   "display_name": "Python 3",
   "language": "python",
   "name": "python3"
  },
  "language_info": {
   "codemirror_mode": {
    "name": "ipython",
    "version": 3
   },
   "file_extension": ".py",
   "mimetype": "text/x-python",
   "name": "python",
   "nbconvert_exporter": "python",
   "pygments_lexer": "ipython3",
   "version": "3.8.0"
  }
 },
 "nbformat": 4,
 "nbformat_minor": 5
}
