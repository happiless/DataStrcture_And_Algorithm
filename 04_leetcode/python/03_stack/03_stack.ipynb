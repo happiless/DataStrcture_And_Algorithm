{
 "cells": [
  {
   "cell_type": "markdown",
   "id": "sealed-findings",
   "metadata": {},
   "source": [
    "### 二叉树的后序遍历"
   ]
  },
  {
   "cell_type": "code",
   "execution_count": null,
   "id": "indoor-southeast",
   "metadata": {},
   "outputs": [],
   "source": []
  },
  {
   "cell_type": "markdown",
   "id": "endless-difference",
   "metadata": {},
   "source": [
    "### leetcode-636-函数独占时间"
   ]
  },
  {
   "cell_type": "code",
   "execution_count": 3,
   "id": "precise-nightlife",
   "metadata": {},
   "outputs": [],
   "source": [
    "from typing import List\n",
    "class Solution:\n",
    "    def exclusiveTime(self, n: int, logs: List[str]) -> List[int]:\n",
    "        ans = [0 for _ in range(n)]\n",
    "        vID = []\n",
    "\n",
    "        for log in logs:\n",
    "            id_str, status, time_str = log.split(\":\")\n",
    "            timestamp = int(time_str)\n",
    "            \n",
    "            if vID: \n",
    "                v = vID.pop()\n",
    "                ans[v] += timestamp - pre + int(status == 'end')\n",
    "                vID.append(v)\n",
    "            pre = timestamp + (status == 'end')\n",
    "            if status == 'start': vID.append(int(id_str))\n",
    "            else: vID.pop()\n",
    "        return ans"
   ]
  },
  {
   "cell_type": "markdown",
   "id": "spectacular-edward",
   "metadata": {},
   "source": [
    "### leetcode-1124-表现良好的最长时间段"
   ]
  },
  {
   "cell_type": "code",
   "execution_count": null,
   "id": "satisfied-geometry",
   "metadata": {},
   "outputs": [],
   "source": []
  },
  {
   "cell_type": "code",
   "execution_count": null,
   "id": "secure-wrestling",
   "metadata": {},
   "outputs": [],
   "source": []
  },
  {
   "cell_type": "code",
   "execution_count": null,
   "id": "federal-utility",
   "metadata": {},
   "outputs": [],
   "source": []
  },
  {
   "cell_type": "markdown",
   "id": "egyptian-insertion",
   "metadata": {},
   "source": [
    "### leetcode-54-螺旋矩阵"
   ]
  },
  {
   "cell_type": "code",
   "execution_count": 2,
   "id": "communist-curtis",
   "metadata": {},
   "outputs": [],
   "source": [
    "class Solution:\n",
    "    def spiralOrder(self, matrix: List[List[int]]) -> List[int]:\n",
    "        ans = []\n",
    "        n = len(matrix)\n",
    "        m = len(matrix[0])\n",
    "        i = 0\n",
    "        j = -1\n",
    "        k = 0\n",
    "        K = n * m\n",
    "        l = 0\n",
    "        while k < K:\n",
    "            while k < K and j + 1 <=  m - 1 - l:\n",
    "                k += 1\n",
    "                j += 1\n",
    "                ans.append(matrix[i][j])\n",
    "            while k < K and i + 1 <= n - 1 - l:\n",
    "                k += 1\n",
    "                i += 1\n",
    "                ans.append(matrix[i][j])\n",
    "            while k < K and j - 1 >= l:\n",
    "                k += 1\n",
    "                j -= 1\n",
    "                ans.append(matrix[i][j])\n",
    "            while k < K and i-+ 1 > l:\n",
    "                k += 1\n",
    "                i -= 1\n",
    "                ans.append(matrix[i][j])\n",
    "            l += 1\n",
    "\n",
    "        return ans"
   ]
  },
  {
   "cell_type": "code",
   "execution_count": null,
   "id": "continent-funeral",
   "metadata": {},
   "outputs": [],
   "source": []
  }
 ],
 "metadata": {
  "kernelspec": {
   "display_name": "Python 3",
   "language": "python",
   "name": "python3"
  },
  "language_info": {
   "codemirror_mode": {
    "name": "ipython",
    "version": 3
   },
   "file_extension": ".py",
   "mimetype": "text/x-python",
   "name": "python",
   "nbconvert_exporter": "python",
   "pygments_lexer": "ipython3",
   "version": "3.8.0"
  }
 },
 "nbformat": 4,
 "nbformat_minor": 5
}
