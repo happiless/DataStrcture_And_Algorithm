{
 "cells": [
  {
   "cell_type": "markdown",
   "id": "strange-attempt",
   "metadata": {},
   "source": [
    "### 二叉树的后序遍历"
   ]
  },
  {
   "cell_type": "code",
   "execution_count": null,
   "id": "northern-chapter",
   "metadata": {},
   "outputs": [],
   "source": []
  },
  {
   "cell_type": "markdown",
   "id": "urban-provider",
   "metadata": {},
   "source": [
    "### leetcode-636-函数独占时间"
   ]
  },
  {
   "cell_type": "code",
   "execution_count": 3,
   "id": "widespread-cemetery",
   "metadata": {},
   "outputs": [],
   "source": [
    "from typing import List\n",
    "class Solution:\n",
    "    def exclusiveTime(self, n: int, logs: List[str]) -> List[int]:\n",
    "        ans = [0 for _ in range(n)]\n",
    "        vID = []\n",
    "\n",
    "        for log in logs:\n",
    "            id_str, status, time_str = log.split(\":\")\n",
    "            timestamp = int(time_str)\n",
    "            \n",
    "            if vID: \n",
    "                v = vID.pop()\n",
    "                ans[v] += timestamp - pre + int(status == 'end')\n",
    "                vID.append(v)\n",
    "            pre = timestamp + (status == 'end')\n",
    "            if status == 'start': vID.append(int(id_str))\n",
    "            else: vID.pop()\n",
    "        return ans"
   ]
  },
  {
   "cell_type": "markdown",
   "id": "unusual-vector",
   "metadata": {},
   "source": [
    "### leetcode-1124-表现良好的最长时间段"
   ]
  },
  {
   "cell_type": "code",
   "execution_count": null,
   "id": "understood-joining",
   "metadata": {},
   "outputs": [],
   "source": []
  }
 ],
 "metadata": {
  "kernelspec": {
   "display_name": "Python 3",
   "language": "python",
   "name": "python3"
  },
  "language_info": {
   "codemirror_mode": {
    "name": "ipython",
    "version": 3
   },
   "file_extension": ".py",
   "mimetype": "text/x-python",
   "name": "python",
   "nbconvert_exporter": "python",
   "pygments_lexer": "ipython3",
   "version": "3.8.0"
  }
 },
 "nbformat": 4,
 "nbformat_minor": 5
}
