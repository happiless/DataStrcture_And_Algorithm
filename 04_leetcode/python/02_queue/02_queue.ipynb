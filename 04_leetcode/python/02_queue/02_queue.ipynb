{
 "cells": [
  {
   "cell_type": "markdown",
   "id": "revised-discrimination",
   "metadata": {},
   "source": [
    "### 1. leetcode-86 分隔链表\n",
    "https://leetcode-cn.com/problems/partition-list/"
   ]
  },
  {
   "cell_type": "code",
   "execution_count": 12,
   "id": "interesting-charity",
   "metadata": {},
   "outputs": [],
   "source": [
    "class ListNode:\n",
    "    def __init__(self, val=0, next=None):\n",
    "        self.val = val\n",
    "        self.next = next\n",
    "class Solution:\n",
    "    def partition(self, head: ListNode, x: int) -> ListNode:\n",
    "        if not head or not head.next: return head\n",
    "        \n",
    "        small_head, big_head = ListNode(), ListNode()\n",
    "        small_pre, big_pre = small_head, big_head\n",
    "        cur = head\n",
    "        while cur:\n",
    "            q = cur.next\n",
    "            cur.next = None\n",
    "            if cur.val < x:\n",
    "                small_pre.next = cur\n",
    "                small_pre = small_pre.next\n",
    "            else:\n",
    "                big_pre.next = cur\n",
    "                big_pre = big_pre.next\n",
    "            cur = q\n",
    "        small_pre.next = big_head.next\n",
    "        return small_head.next"
   ]
  },
  {
   "cell_type": "markdown",
   "id": "opponent-pastor",
   "metadata": {},
   "source": [
    "### 2. leetcode-138 复制带随即指针的链表\n",
    "https://leetcode-cn.com/problems/copy-list-with-random-pointer/"
   ]
  },
  {
   "cell_type": "code",
   "execution_count": 16,
   "id": "lyric-arizona",
   "metadata": {},
   "outputs": [],
   "source": [
    "class Solution:\n",
    "    def copyRandomList(self, head: 'Node') -> 'Node':\n",
    "        if not head: return None\n",
    "        p = head\n",
    "        while p:\n",
    "            q = Node(p.val, p.next, p.random)\n",
    "            p.next = q\n",
    "            p = q.next\n",
    "        p = head.next\n",
    "        while p:\n",
    "            if p.random: p.random = p.random.next\n",
    "            p = p.next\n",
    "            if p:\n",
    "                p = p.next\n",
    "        new_head = head.next\n",
    "        p = head\n",
    "        while p:\n",
    "            q = p.next\n",
    "            p.next = q.next\n",
    "            if p.next:\n",
    "                q.next = p.next.next\n",
    "            p = p.next\n",
    "        return new_head"
   ]
  },
  {
   "cell_type": "markdown",
   "id": "worthy-setting",
   "metadata": {},
   "source": [
    "### 3. leetcode-622 设计循环队列\n",
    "https://leetcode-cn.com/problems/design-circular-queue/"
   ]
  },
  {
   "cell_type": "code",
   "execution_count": 14,
   "id": "orange-destination",
   "metadata": {},
   "outputs": [],
   "source": [
    "class MyCircularQueue:\n",
    "    def __init__(self, k: int):\n",
    "        self.queue = [None for _ in range(k)]\n",
    "        self.k = k\n",
    "        self.head = 0\n",
    "        self.tail = 0\n",
    "        self.cnt = 0\n",
    "    def enQueue(self, value: int) -> bool:\n",
    "        if self.isFull(): return False\n",
    "        self.queue[self.tail] = value\n",
    "        self.tail = (self.tail + 1) % self.k\n",
    "        self.cnt += 1\n",
    "        return True\n",
    "    def deQueue(self) -> bool:\n",
    "        if self.isEmpty(): return False\n",
    "        self.head = (self.head + 1) % self.k\n",
    "        self.cnt -= 1\n",
    "        return True\n",
    "    def Front(self) -> int:\n",
    "        if self.isEmpty(): return -1\n",
    "        return self.queue[self.head]\n",
    "    def Rear(self) -> int:\n",
    "        if self.isEmpty(): return -1\n",
    "        return self.queue[(self.tail - 1 + self.k) % self.k]\n",
    "    def isEmpty(self) -> bool:\n",
    "        return self.cnt == 0\n",
    "    def isFull(self) -> bool:\n",
    "        return self.cnt == self.k"
   ]
  },
  {
   "cell_type": "markdown",
   "id": "comparable-charger",
   "metadata": {},
   "source": [
    "### 4. leetcode-641 设计双端循环队列\n",
    "https://leetcode-cn.com/problems/design-circular-deque/"
   ]
  },
  {
   "cell_type": "code",
   "execution_count": 15,
   "id": "received-activity",
   "metadata": {},
   "outputs": [],
   "source": [
    "class MyCircularDeque:\n",
    "    def __init__(self, k: int):\n",
    "        self.queue = [None for _ in range(k)]\n",
    "        self.k = k\n",
    "        self.head = 0\n",
    "        self.tail = 0\n",
    "        self.cnt = 0\n",
    "    def insertFront(self, value: int) -> bool:\n",
    "        if self.isFull(): return False\n",
    "        self.head = (self.head - 1 + self.k) % self.k\n",
    "        self.queue[self.head] = value\n",
    "        self.cnt += 1\n",
    "        return True\n",
    "    def insertLast(self, value: int) -> bool:\n",
    "        if self.isFull(): return False\n",
    "        self.queue[self.tail] = value\n",
    "        self.tail = (self.tail + 1) % self.k\n",
    "        self.cnt += 1\n",
    "        return True\n",
    "    def deleteFront(self) -> bool:\n",
    "        if self.isEmpty(): return False\n",
    "        self.head = (self.head + 1) % self.k\n",
    "        self.cnt -= 1\n",
    "        return True\n",
    "    def deleteLast(self) -> bool:\n",
    "        if self.isEmpty(): return False\n",
    "        self.tail = (self.tail - 1 + self.k) % self.k\n",
    "        self.cnt -= 1\n",
    "        print(self.queue)\n",
    "        print(self.cnt)\n",
    "        return True\n",
    "    def getFront(self) -> int:\n",
    "        if self.isEmpty(): return -1\n",
    "        print(self.head)\n",
    "        return self.queue[self.head]\n",
    "    def getRear(self) -> int:\n",
    "        if self.isEmpty(): return -1\n",
    "        print(self.tail)\n",
    "        return self.queue[(self.tail - 1 + self.k) % self.k]\n",
    "    def isEmpty(self) -> bool:\n",
    "        return self.cnt == 0\n",
    "    def isFull(self) -> bool:\n",
    "        return self.cnt == self.k"
   ]
  },
  {
   "cell_type": "code",
   "execution_count": 4,
   "id": "varied-renewal",
   "metadata": {},
   "outputs": [],
   "source": [
    "### 5. leetcode-1670 设计前中后端队列\n"
   ]
  },
  {
   "cell_type": "code",
   "execution_count": null,
   "id": "liberal-reserve",
   "metadata": {},
   "outputs": [],
   "source": []
  },
  {
   "cell_type": "markdown",
   "id": "mathematical-congo",
   "metadata": {},
   "source": [
    "### 6. leetcode-933 最近请求次数\n",
    "https://leetcode-cn.com/problems/number-of-recent-calls/"
   ]
  },
  {
   "cell_type": "code",
   "execution_count": null,
   "id": "ceramic-warehouse",
   "metadata": {},
   "outputs": [],
   "source": [
    "class RecentCounter:\n",
    "    def __init__(self):\n",
    "        self.queue = []\n",
    "    def ping(self, t: int) -> int:\n",
    "        while self.queue:\n",
    "            cur = self.queue.pop(0)\n",
    "            if t - cur <= 3000:\n",
    "                self.queue.insert(0, cur)\n",
    "                break\n",
    "        self.queue.append(t)\n",
    "        return len(self.queue)"
   ]
  },
  {
   "cell_type": "markdown",
   "id": "improved-christopher",
   "metadata": {},
   "source": [
    "### 7. leetcode-面试题17.09 第K个数\n",
    "https://leetcode-cn.com/problems/get-kth-magic-number-lcci/"
   ]
  },
  {
   "cell_type": "code",
   "execution_count": 17,
   "id": "reasonable-breath",
   "metadata": {},
   "outputs": [],
   "source": [
    "class Solution:\n",
    "    def getKthMagicNumber(self, k: int) -> int:\n",
    "        res = [1]\n",
    "        p3 = p5 = p7 = 0\n",
    "        while len(res) < k:\n",
    "            ans3 = res[p3] * 3\n",
    "            ans5 = res[p5] * 5\n",
    "            ans7 = res[p7] * 7\n",
    "            ans = min(ans3, ans5)\n",
    "            ans = min(ans, ans7)\n",
    "            if ans == ans3: p3 += 1\n",
    "            if ans == ans5: p5 += 1\n",
    "            if ans == ans7: p7 += 1\n",
    "            res.append(ans)\n",
    "        return res[k - 1]"
   ]
  },
  {
   "cell_type": "markdown",
   "id": "funky-playlist",
   "metadata": {},
   "source": [
    "### 8. leetcode-859 亲密字符串\n",
    "https://leetcode-cn.com/problems/buddy-strings/\n",
    "-   1. 如果a和b长度不相等一定不是\n",
    "-   2. 如果a和b相等，则字符串必须有重复字符，否则不是\n",
    "-   3. 遍历找到a和b第一个不相等的位置\n",
    "-   4. 再找到下一个不相等的位置\n",
    "-   5. 判读如果j已经到字符串末尾，或者a[i] != b[j] or a[j] != b[i]， 则不是\n",
    "-   6. 遍历剩下的字符串，如果有字符不相等则不是"
   ]
  },
  {
   "cell_type": "code",
   "execution_count": null,
   "id": "round-scholar",
   "metadata": {},
   "outputs": [],
   "source": [
    "class Solution:\n",
    "    def has_repeat(self, a):\n",
    "        cnt = [0 for _ in range(26)]\n",
    "        for i in a:\n",
    "            cnt[ord(i) - ord('a')] += 1\n",
    "            if cnt[ord(i) - ord('a')] == 2: return True\n",
    "        return False\n",
    "    def buddyStrings(self, a: str, b: str) -> bool:\n",
    "        if len(a) != len(b): return False\n",
    "        if a == b: return self.has_repeat(a)\n",
    "        i = 0\n",
    "        while a[i] == b[i]: i += 1\n",
    "        j = i + 1\n",
    "        while j < len(a) and a[j] == b[j]: j += 1\n",
    "        if j == len(a) or a[i] != b[j] or a[j] != b[i]: return False\n",
    "        j += 1\n",
    "        while j < len(a):\n",
    "            if a[j] != b[j]: return False\n",
    "            j += 1\n",
    "        return True"
   ]
  },
  {
   "cell_type": "markdown",
   "id": "intelligent-silicon",
   "metadata": {},
   "source": [
    "### 9. leetcode-860 柠檬水找零\n",
    "https://leetcode-cn.com/problems/lemonade-change/"
   ]
  },
  {
   "cell_type": "code",
   "execution_count": null,
   "id": "respective-involvement",
   "metadata": {},
   "outputs": [],
   "source": [
    "class Solution:\n",
    "    def lemonadeChange(self, bills: List[int]) -> bool:\n",
    "        b5 = b10 = b20 = 0\n",
    "        for b in bills:\n",
    "            print('b5', b5)\n",
    "            print('b10', b10)\n",
    "            print('b20', b20)\n",
    "            if b == 5:\n",
    "                b5 += 1\n",
    "            elif b == 10:\n",
    "                b10 += 1\n",
    "                if b5 < 1: return False\n",
    "                b5 -= 1\n",
    "            elif b == 20:\n",
    "                b20 += 1\n",
    "                if b5 < 1: return False\n",
    "                elif b10 < 1 and b5 >= 3:\n",
    "                    b5 -= 3\n",
    "                elif b10 >= 1 and b5 >= 1:\n",
    "                    b10 -= 1\n",
    "                    b5 -= 1\n",
    "                else: return False\n",
    "        return True"
   ]
  },
  {
   "cell_type": "markdown",
   "id": "bacterial-guess",
   "metadata": {},
   "source": [
    "### 10. leetcode-969 煎饼排序\n",
    "https://leetcode-cn.com/problems/pancake-sorting/"
   ]
  },
  {
   "cell_type": "code",
   "execution_count": 19,
   "id": "abroad-least",
   "metadata": {},
   "outputs": [],
   "source": [
    "from typing import List\n",
    "class Solution:\n",
    "    def pancakeSort(self, arr: List[int]) -> List[int]:\n",
    "        k_list = []\n",
    "        max_val = len(arr)\n",
    "        while max_val > 1:\n",
    "            max_idx = arr.index(max_val)\n",
    "            if max_idx != max_val - 1:\n",
    "                arr[: max_idx + 1] = arr[:max_idx + 1][::-1]\n",
    "                k_list.append(max_idx + 1)\n",
    "                arr[: max_val] = arr[: max_val][::-1]\n",
    "                k_list.append(max_val)\n",
    "            max_val -= 1\n",
    "        return k_list"
   ]
  },
  {
   "cell_type": "markdown",
   "id": "foreign-glucose",
   "metadata": {},
   "source": [
    "### 11. leetcode-621 任务调度\n",
    "https://leetcode-cn.com/problems/task-scheduler/"
   ]
  },
  {
   "cell_type": "code",
   "execution_count": null,
   "id": "previous-cassette",
   "metadata": {},
   "outputs": [],
   "source": []
  },
  {
   "cell_type": "markdown",
   "id": "massive-headline",
   "metadata": {},
   "source": [
    "### 12. leetcode-338 比特位1的个数\n",
    "https://leetcode-cn.com/problems/counting-bits/"
   ]
  },
  {
   "cell_type": "code",
   "execution_count": 21,
   "id": "focused-geometry",
   "metadata": {},
   "outputs": [],
   "source": [
    "class Solution:\n",
    "    def countBits(self, num: int) -> List[int]:\n",
    "        res = [0 for _ in range(num + 1)]\n",
    "        for i in range(1, num + 1):\n",
    "            res[i] = res[i & (i - 1)] + 1\n",
    "        return res"
   ]
  }
 ],
 "metadata": {
  "kernelspec": {
   "display_name": "Python 3",
   "language": "python",
   "name": "python3"
  },
  "language_info": {
   "codemirror_mode": {
    "name": "ipython",
    "version": 3
   },
   "file_extension": ".py",
   "mimetype": "text/x-python",
   "name": "python",
   "nbconvert_exporter": "python",
   "pygments_lexer": "ipython3",
   "version": "3.8.0"
  }
 },
 "nbformat": 4,
 "nbformat_minor": 5
}
