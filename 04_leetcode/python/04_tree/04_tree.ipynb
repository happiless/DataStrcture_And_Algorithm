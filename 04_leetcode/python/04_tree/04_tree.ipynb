{
 "cells": [
  {
   "cell_type": "markdown",
   "id": "structured-return",
   "metadata": {},
   "source": [
    "### 二叉树的基本操作\n",
    "##### 基本性质\n",
    "-   1. 每个节点的度最多为2\n",
    "-   2. 度为0的节点比度为2的节点多一个<br>\n",
    "-   证明： \n",
    "        设度为0的节点数为n0， 度为1的节点为n1，度为2的节点为n2， \n",
    "        总结点数为n0+n1+n2, 总边数为 (0*n0 + 1*n1 + 2*n2) = (n0+n1+n2 - 1), 所以 n2 = n0 - 1\n",
    "\n",
    "##### 遍历\n",
    "    前序遍历： 根左右\n",
    "    中序遍历： 左根右\n",
    "    后序遍历： 左右根\n",
    "##### 特殊的二叉树\n",
    "    1. 完全二叉树\n",
    "    2. 满二叉树 - 指所有节点的度都为0和2的树\n",
    "    3. 完美二叉树\n",
    "##### 二叉树的应用\n",
    "    1. 完全二叉树： 堆，优先队列\n",
    "    2. 多叉树/森林： 字典树，AC自动机，并查集\n",
    "    3. 二叉排序树： AVL树， 2-3树， 红黑树， B-树\n",
    "    学习二叉树后，可以使用左孩子右兄弟法来节省空间"
   ]
  },
  {
   "cell_type": "markdown",
   "id": "charged-trace",
   "metadata": {},
   "source": [
    "### 1. leetcode-144 二叉树的基本操作\n",
    "https://leetcode-cn.com/problems/binary-tree-preorder-traversal/"
   ]
  },
  {
   "cell_type": "code",
   "execution_count": 2,
   "id": "future-charm",
   "metadata": {},
   "outputs": [],
   "source": [
    "from typing import List\n",
    "class TreeNode:\n",
    "    def __init__(self, val=0, left=None, right=None):\n",
    "        self.val = val\n",
    "        self.left = left\n",
    "        self.right = right\n",
    "class Solution:\n",
    "    def preorder(self, root, ans):\n",
    "        if not root: return\n",
    "        ans.append(root.val)\n",
    "        self.preorder(root.left, ans)\n",
    "        self.preorder(root.right, ans)\n",
    "        return\n",
    "    def preorderTraversal(self, root: TreeNode) -> List[int]:\n",
    "        ans = []\n",
    "        self.preorder(root, ans)\n",
    "        return ans"
   ]
  },
  {
   "cell_type": "markdown",
   "id": "mysterious-florence",
   "metadata": {},
   "source": [
    "### 2. leetcode-589 N叉树前序遍历\n",
    "https://leetcode-cn.com/problems/n-ary-tree-preorder-traversal/"
   ]
  },
  {
   "cell_type": "code",
   "execution_count": 3,
   "id": "liable-literature",
   "metadata": {},
   "outputs": [],
   "source": [
    "class Node:\n",
    "    def __init__(self, val=None, children=None):\n",
    "        self.val = val\n",
    "        self.children = children\n",
    "class Solution:\n",
    "    def __preorder(self, root: 'Node', ans):\n",
    "        if not root: return\n",
    "        ans.append(root.val)\n",
    "        for child in root.children:\n",
    "            self.__preorder(child, ans)\n",
    "        return\n",
    "    def preorder(self, root: 'Node') -> List[int]:\n",
    "        ans = []\n",
    "        self.__preorder(root, ans)\n",
    "        return ans"
   ]
  },
  {
   "cell_type": "markdown",
   "id": "virgin-linux",
   "metadata": {},
   "source": [
    "### 3. leetcode-226 翻转二叉树\n",
    "https://leetcode-cn.com/problems/invert-binary-tree/"
   ]
  },
  {
   "cell_type": "code",
   "execution_count": 14,
   "id": "mediterranean-programming",
   "metadata": {},
   "outputs": [],
   "source": [
    "class Solution:\n",
    "    def invertTree(self, root: TreeNode) -> TreeNode:\n",
    "        if not root: return \n",
    "        root.left, root.right = root.right, root.left\n",
    "        self.invertTree(root.left)\n",
    "        self.invertTree(root.right)\n",
    "        return root"
   ]
  },
  {
   "cell_type": "markdown",
   "id": "applied-magic",
   "metadata": {},
   "source": [
    "### 4. leetcode-剑指 Offer 32 - Ⅱ. 从上到下打印二叉树Ⅱ\n",
    "https://leetcode-cn.com/problems/cong-shang-dao-xia-da-yin-er-cha-shu-ii-lcof/"
   ]
  },
  {
   "cell_type": "code",
   "execution_count": 10,
   "id": "tough-classic",
   "metadata": {},
   "outputs": [],
   "source": [
    "from typing import List\n",
    "class TreeNode:\n",
    "    def __init__(self, x):\n",
    "        self.val = x\n",
    "        self.left = None\n",
    "        self.right = None\n",
    "class Solution:\n",
    "    def getResult(self, root: TreeNode, k, ans: List[List[int]]):\n",
    "        if not root: return \n",
    "        if k == len(ans): ans.append([])\n",
    "        ans[k].append(root.val)\n",
    "        self.getResult(root.left, k + 1, ans)\n",
    "        self.getResult(root.right, k + 1, ans)\n",
    "        return\n",
    "    def levelOrder(self, root: TreeNode) -> List[List[int]]:\n",
    "        ans = []\n",
    "        self.getResult(root, 0, ans)\n",
    "        return ans"
   ]
  },
  {
   "cell_type": "markdown",
   "id": "speaking-message",
   "metadata": {},
   "source": [
    "### 5. leetcode-107 二叉树的层序遍历Ⅱ\n",
    "https://leetcode-cn.com/problems/binary-tree-level-order-traversal-ii/"
   ]
  },
  {
   "cell_type": "code",
   "execution_count": 15,
   "id": "pacific-respondent",
   "metadata": {},
   "outputs": [],
   "source": [
    "class Solution:\n",
    "    def getResult(self, root: TreeNode, k: int, ans: List[List[int]]):\n",
    "        if not root: return\n",
    "        if k == len(ans): ans.append([])\n",
    "        ans[k].append(root.val)\n",
    "        self.getResult(root.left, k + 1, ans)\n",
    "        self.getResult(root.right, k + 1, ans)\n",
    "        return\n",
    "    def levelOrderBottom(self, root: TreeNode) -> List[List[int]]:\n",
    "        ans = []\n",
    "        self.getResult(root, 0, ans)\n",
    "        return ans[::-1]"
   ]
  },
  {
   "cell_type": "markdown",
   "id": "american-suite",
   "metadata": {},
   "source": [
    "### 6. leetcode-103 二叉树的锯齿形层序遍历\n",
    "https://leetcode-cn.com/problems/binary-tree-zigzag-level-order-traversal/"
   ]
  },
  {
   "cell_type": "code",
   "execution_count": 16,
   "id": "delayed-robert",
   "metadata": {},
   "outputs": [],
   "source": [
    "class Solution:\n",
    "    def getResult(self, root: TreeNode, k: int, ans: List[List[int]]):\n",
    "        if not root: return\n",
    "        if k == len(ans): ans.append([])\n",
    "        if k % 2 == 0:\n",
    "            ans[k].append(root.val)\n",
    "        else:\n",
    "            ans[k].insert(0, root.val)\n",
    "        self.getResult(root.left, k + 1, ans)\n",
    "        self.getResult(root.right, k + 1, ans)\n",
    "        return\n",
    "    def zigzagLevelOrder(self, root: TreeNode) -> List[List[int]]:\n",
    "        ans = []\n",
    "        self.getResult(root, 0, ans)\n",
    "        return ans"
   ]
  },
  {
   "cell_type": "markdown",
   "id": "involved-origin",
   "metadata": {},
   "source": [
    "### 二叉树的进阶操作\n",
    "### 7. leetcode-110 平衡二叉树\n",
    "https://leetcode-cn.com/problems/balanced-binary-tree/"
   ]
  },
  {
   "cell_type": "code",
   "execution_count": 18,
   "id": "chinese-strategy",
   "metadata": {},
   "outputs": [],
   "source": [
    "class Solution:\n",
    "    def getHeight(self, root):\n",
    "        if not root: return 0\n",
    "        l, r = self.getHeight(root.left), self.getHeight(root.right)\n",
    "        if l < 0 or r < 0: return -2\n",
    "        if (abs(l - r) > 1): return -2\n",
    "        return max(l, r) + 1\n",
    "    def isBalanced(self, root: TreeNode) -> bool:\n",
    "        return self.getHeight(root) >= 0"
   ]
  },
  {
   "cell_type": "markdown",
   "id": "sharing-remove",
   "metadata": {},
   "source": [
    "### 8. leetcode-112 路经总和\n",
    "https://leetcode-cn.com/problems/path-sum/"
   ]
  },
  {
   "cell_type": "code",
   "execution_count": 6,
   "id": "approved-picnic",
   "metadata": {},
   "outputs": [],
   "source": [
    " class Solution:\n",
    "    def hasPathSum(self, root: TreeNode, targetSum: int) -> bool:\n",
    "        if not root: return False\n",
    "        result = []\n",
    "        queue = collections.deque()\n",
    "        queue.append([root, root.val])\n",
    "        while queue:\n",
    "            node, num = queue.popleft()\n",
    "            if not node.left and not node.right and num == targetSum:\n",
    "                return True\n",
    "            if node.left:\n",
    "                queue.append([node.left, num + node.left.val])\n",
    "            if node.right:\n",
    "                queue.append([node.right, num + node.right.val])\n",
    "        return False"
   ]
  },
  {
   "cell_type": "markdown",
   "id": "modern-diagram",
   "metadata": {},
   "source": [
    "### 9. leetcode-105 从前序与中序遍历序列构造二叉树\n",
    "https://leetcode-cn.com/problems/construct-binary-tree-from-preorder-and-inorder-traversal/"
   ]
  },
  {
   "cell_type": "code",
   "execution_count": 7,
   "id": "natural-segment",
   "metadata": {},
   "outputs": [],
   "source": [
    "class Solution:\n",
    "    def buildTree(self, preorder: List[int], inorder: List[int]) -> TreeNode:\n",
    "        if not preorder or not inorder: return\n",
    "        root = TreeNode(preorder[0])\n",
    "        index = inorder.index(preorder[0])\n",
    "        root.left = self.buildTree(preorder[1:index + 1], inorder[:index])\n",
    "        root.right = self.buildTree(preorder[index + 1: ], inorder[index + 1:])\n",
    "        return root"
   ]
  },
  {
   "cell_type": "markdown",
   "id": "forbidden-jewelry",
   "metadata": {},
   "source": [
    "### 10. leetcode-222 完全二叉树的节点个数\n",
    "https://leetcode-cn.com/problems/count-complete-tree-nodes/"
   ]
  },
  {
   "cell_type": "code",
   "execution_count": null,
   "id": "floating-guidance",
   "metadata": {},
   "outputs": [],
   "source": [
    "class Solution:\n",
    "    def preorder(self, root, ans):\n",
    "        if not root: return\n",
    "        ans.append(root.val)\n",
    "        self.preorder(root.left, ans)\n",
    "        self.preorder(root.right, ans)\n",
    "    def countNodes(self, root: TreeNode) -> int:\n",
    "        \"\"\"\n",
    "        前序遍历计算数组的长度\n",
    "        \"\"\"\n",
    "        ans = []\n",
    "        self.preorder(root, ans)\n",
    "        return len(ans)\n",
    "    \n",
    "    def countNodes2(self, root: TreeNode) -> int:\n",
    "        if not root: return 0\n",
    "        l = self.countNodes2(root.left)\n",
    "        r = self.countNodes2(root.right)\n",
    "        return l + r + 1"
   ]
  },
  {
   "cell_type": "markdown",
   "id": "loose-affiliation",
   "metadata": {},
   "source": [
    "### 11. leetcode-剑指Offer 54 二叉搜索树的第k大节点\n",
    "https://leetcode-cn.com/problems/er-cha-sou-suo-shu-de-di-kda-jie-dian-lcof/"
   ]
  },
  {
   "cell_type": "code",
   "execution_count": 17,
   "id": "african-activation",
   "metadata": {},
   "outputs": [],
   "source": [
    "class Solution:\n",
    "    def inorder(self, root, ans):\n",
    "        if not root: return ans\n",
    "        self.inorder(root.left, ans)\n",
    "        ans.append(root.val)\n",
    "        self.inorder(root.right, ans)\n",
    "        return ans\n",
    "    def kthLargest(self, root: TreeNode, k: int) -> int:\n",
    "        \"\"\"\n",
    "        中序遍历取倒数第k个\n",
    "        \"\"\"\n",
    "        ans = []\n",
    "        return self.inorder(root, ans)[::-1][k-1]"
   ]
  },
  {
   "cell_type": "markdown",
   "id": "parallel-helen",
   "metadata": {},
   "source": [
    "### 12. leetcode-剑指Offer 26 树的子结构\n",
    "https://leetcode-cn.com/problems/shu-de-zi-jie-gou-lcof/"
   ]
  },
  {
   "cell_type": "code",
   "execution_count": null,
   "id": "pointed-action",
   "metadata": {},
   "outputs": [],
   "source": []
  },
  {
   "cell_type": "markdown",
   "id": "owned-catering",
   "metadata": {},
   "source": [
    "### 13. leetcode-968 监控二叉树\n",
    "https://leetcode-cn.com/problems/binary-tree-cameras/"
   ]
  },
  {
   "cell_type": "code",
   "execution_count": null,
   "id": "threaded-strand",
   "metadata": {},
   "outputs": [],
   "source": []
  },
  {
   "cell_type": "markdown",
   "id": "registered-ghost",
   "metadata": {},
   "source": [
    "### 14. leetcode-662 二叉树最大宽度\n",
    "https://leetcode-cn.com/problems/maximum-width-of-binary-tree/"
   ]
  },
  {
   "cell_type": "code",
   "execution_count": null,
   "id": "charged-saying",
   "metadata": {},
   "outputs": [],
   "source": []
  },
  {
   "cell_type": "code",
   "execution_count": null,
   "id": "dutch-gossip",
   "metadata": {},
   "outputs": [],
   "source": []
  }
 ],
 "metadata": {
  "kernelspec": {
   "display_name": "Python 3",
   "language": "python",
   "name": "python3"
  },
  "language_info": {
   "codemirror_mode": {
    "name": "ipython",
    "version": 3
   },
   "file_extension": ".py",
   "mimetype": "text/x-python",
   "name": "python",
   "nbconvert_exporter": "python",
   "pygments_lexer": "ipython3",
   "version": "3.8.0"
  }
 },
 "nbformat": 4,
 "nbformat_minor": 5
}
