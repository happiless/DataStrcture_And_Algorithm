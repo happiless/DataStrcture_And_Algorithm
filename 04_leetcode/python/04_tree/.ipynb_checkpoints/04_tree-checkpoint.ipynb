{
 "cells": [
  {
   "cell_type": "markdown",
   "id": "premium-reception",
   "metadata": {},
   "source": [
    "### 二叉树的基本操作\n",
    "### 1. leetcode-144 二叉树的基本操作\n",
    "https://leetcode-cn.com/problems/binary-tree-preorder-traversal/"
   ]
  },
  {
   "cell_type": "code",
   "execution_count": null,
   "id": "relevant-marsh",
   "metadata": {},
   "outputs": [],
   "source": []
  },
  {
   "cell_type": "markdown",
   "id": "ecological-confusion",
   "metadata": {},
   "source": [
    "### 2. leetcode-589 N叉树前序遍历\n",
    "https://leetcode-cn.com/problems/n-ary-tree-preorder-traversal/"
   ]
  },
  {
   "cell_type": "code",
   "execution_count": null,
   "id": "demographic-springer",
   "metadata": {},
   "outputs": [],
   "source": []
  },
  {
   "cell_type": "markdown",
   "id": "ready-brother",
   "metadata": {},
   "source": [
    "### 3. leetcode-226 翻转二叉树\n",
    "https://leetcode-cn.com/problems/invert-binary-tree/"
   ]
  },
  {
   "cell_type": "code",
   "execution_count": null,
   "id": "declared-damages",
   "metadata": {},
   "outputs": [],
   "source": []
  },
  {
   "cell_type": "markdown",
   "id": "danish-punishment",
   "metadata": {},
   "source": [
    "### 4. leetcode-剑指 Offer 32 - Ⅱ. 从上到下打印二叉树Ⅱ\n",
    "https://leetcode-cn.com/problems/cong-shang-dao-xia-da-yin-er-cha-shu-ii-lcof/"
   ]
  },
  {
   "cell_type": "code",
   "execution_count": null,
   "id": "recognized-setup",
   "metadata": {},
   "outputs": [],
   "source": []
  },
  {
   "cell_type": "markdown",
   "id": "sought-southwest",
   "metadata": {},
   "source": [
    "### 5. leetcode-107 二叉树的层序遍历Ⅱ\n",
    "https://leetcode-cn.com/problems/binary-tree-level-order-traversal-ii/"
   ]
  },
  {
   "cell_type": "code",
   "execution_count": null,
   "id": "severe-taste",
   "metadata": {},
   "outputs": [],
   "source": []
  },
  {
   "cell_type": "markdown",
   "id": "minus-hindu",
   "metadata": {},
   "source": [
    "### 6. leetcode-103 二叉树的锯齿形层序遍历\n",
    "https://leetcode-cn.com/problems/binary-tree-zigzag-level-order-traversal/"
   ]
  },
  {
   "cell_type": "code",
   "execution_count": null,
   "id": "disabled-tragedy",
   "metadata": {},
   "outputs": [],
   "source": []
  },
  {
   "cell_type": "markdown",
   "id": "established-conflict",
   "metadata": {},
   "source": [
    "### 二叉树的进阶操作\n",
    "### 7. leetcode-110 平衡二叉树\n",
    "https://leetcode-cn.com/problems/balanced-binary-tree/"
   ]
  },
  {
   "cell_type": "code",
   "execution_count": null,
   "id": "thrown-grain",
   "metadata": {},
   "outputs": [],
   "source": []
  },
  {
   "cell_type": "markdown",
   "id": "differential-shakespeare",
   "metadata": {},
   "source": [
    "### 8. leetcode-112 路经总和\n",
    "https://leetcode-cn.com/problems/path-sum/"
   ]
  },
  {
   "cell_type": "code",
   "execution_count": null,
   "id": "solar-harmony",
   "metadata": {},
   "outputs": [],
   "source": []
  },
  {
   "cell_type": "markdown",
   "id": "large-brisbane",
   "metadata": {},
   "source": [
    "### 9. leetcode-105 从前序与中序遍历序列构造二叉树\n",
    "https://leetcode-cn.com/problems/construct-binary-tree-from-preorder-and-inorder-traversal/"
   ]
  },
  {
   "cell_type": "code",
   "execution_count": null,
   "id": "framed-madness",
   "metadata": {},
   "outputs": [],
   "source": []
  },
  {
   "cell_type": "markdown",
   "id": "brutal-melbourne",
   "metadata": {},
   "source": [
    "### 10. leetcode-222 完全二叉树的节点个数\n",
    "https://leetcode-cn.com/problems/count-complete-tree-nodes/"
   ]
  },
  {
   "cell_type": "code",
   "execution_count": null,
   "id": "internal-infection",
   "metadata": {},
   "outputs": [],
   "source": []
  },
  {
   "cell_type": "markdown",
   "id": "accurate-softball",
   "metadata": {},
   "source": [
    "### 11. leetcode-剑指Offer 54 二叉搜索树的第k大节点\n",
    "https://leetcode-cn.com/problems/er-cha-sou-suo-shu-de-di-kda-jie-dian-lcof/"
   ]
  },
  {
   "cell_type": "code",
   "execution_count": null,
   "id": "automatic-detector",
   "metadata": {},
   "outputs": [],
   "source": []
  },
  {
   "cell_type": "markdown",
   "id": "precise-celebrity",
   "metadata": {},
   "source": [
    "### 12. leetcode-剑指Offer 26 树的子结构\n",
    "https://leetcode-cn.com/problems/shu-de-zi-jie-gou-lcof/"
   ]
  },
  {
   "cell_type": "code",
   "execution_count": null,
   "id": "smaller-tension",
   "metadata": {},
   "outputs": [],
   "source": []
  },
  {
   "cell_type": "markdown",
   "id": "dedicated-registrar",
   "metadata": {},
   "source": [
    "### 13. leetcode-968 监控二叉树\n",
    "https://leetcode-cn.com/problems/binary-tree-cameras/"
   ]
  },
  {
   "cell_type": "code",
   "execution_count": null,
   "id": "regulation-operation",
   "metadata": {},
   "outputs": [],
   "source": []
  },
  {
   "cell_type": "markdown",
   "id": "planned-discussion",
   "metadata": {},
   "source": [
    "### 14. leetcode-662 二叉树最大宽度\n",
    "https://leetcode-cn.com/problems/maximum-width-of-binary-tree/"
   ]
  },
  {
   "cell_type": "code",
   "execution_count": null,
   "id": "external-sunrise",
   "metadata": {},
   "outputs": [],
   "source": []
  }
 ],
 "metadata": {
  "kernelspec": {
   "display_name": "Python 3",
   "language": "python",
   "name": "python3"
  },
  "language_info": {
   "codemirror_mode": {
    "name": "ipython",
    "version": 3
   },
   "file_extension": ".py",
   "mimetype": "text/x-python",
   "name": "python",
   "nbconvert_exporter": "python",
   "pygments_lexer": "ipython3",
   "version": "3.8.0"
  }
 },
 "nbformat": 4,
 "nbformat_minor": 5
}
