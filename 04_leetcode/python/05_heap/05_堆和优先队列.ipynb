{
 "cells": [
  {
   "cell_type": "code",
   "execution_count": null,
   "id": "destroyed-dinner",
   "metadata": {},
   "outputs": [],
   "source": [
    "class BtmkHeap(object):\n",
    "    def __init__(self, k):\n",
    "        self.k = k\n",
    "        self.data = []\n",
    "    def push(self, elem):\n",
    "        # Reverse elem to convert to max-heap\n",
    "        elem = -elem\n",
    "        # Using heap algorighem\n",
    "        if len(self.data) < self.k:\n",
    "            heapq.heappush(self.data, elem)\n",
    "        else:\n",
    "            topk_small = self.data[0]\n",
    "            if elem > topk_small:\n",
    "                heapq.heapreplace(self.data, elem)\n",
    "    def BtmK(self):\n",
    "        return sorted([-x for x in self.data])\n",
    "import heapq\n",
    "import random\n",
    "class TopkHeap(object):\n",
    "    def __init__(self, k):\n",
    "        self.k = k\n",
    "        self.data = []\n",
    "    def Push(self, elem):\n",
    "        if len(self.data) < self.k:\n",
    "            heapq.heappush(self.data, elem)\n",
    "        else:\n",
    "            topk_small = self.data[0]\n",
    "            if elem > topk_small:\n",
    "                heapq.heapreplace(self.data, elem)\n",
    "    def TopK(self):\n",
    "        return [x for x in reversed([heapq.heappop(self.data) for x in range(len(self.data))])]\n",
    "if __name__ == \"__main__\":\n",
    "    print(\"Hello\")\n",
    "    list_rand = random.sample(range(1000000), 100)\n",
    "    th = TopkHeap(3)\n",
    "    bh = BtmkHeap(10)\n",
    "    for i in list_rand:\n",
    "        th.Push(i)\n",
    "        bh.push(i)\n",
    "    print(th.TopK())\n",
    "    print(bh.BtmK())\n",
    "    print(sorted(list_rand, reverse=True)[0:3])\n",
    "    print(sorted(list_rand, reverse=False)[0:10])\n",
    "    print(min(list_rand))\n"
   ]
  },
  {
   "cell_type": "code",
   "execution_count": 47,
   "id": "complex-trainer",
   "metadata": {},
   "outputs": [],
   "source": [
    "import random\n",
    "from heapq import *\n",
    "l = [random.randrange(1, 1000) for _ in range(100)]\n",
    "m = [random.randrange(1, 1000) for _ in range(100)]\n",
    "n = [random.randrange(1, 1000) for _ in range(100)]"
   ]
  },
  {
   "cell_type": "code",
   "execution_count": 54,
   "id": "spectacular-orientation",
   "metadata": {},
   "outputs": [],
   "source": [
    "heapify(m)"
   ]
  },
  {
   "cell_type": "code",
   "execution_count": 56,
   "id": "eight-connection",
   "metadata": {},
   "outputs": [
    {
     "data": {
      "text/plain": [
       "[984, 954, 938, 935, 933, 922, 918, 903, 900, 884]"
      ]
     },
     "execution_count": 56,
     "metadata": {},
     "output_type": "execute_result"
    }
   ],
   "source": [
    "nlargest(10, m)"
   ]
  },
  {
   "cell_type": "code",
   "execution_count": 55,
   "id": "understanding-brunswick",
   "metadata": {},
   "outputs": [
    {
     "data": {
      "text/plain": [
       "[18, 19, 55, 55, 66, 66, 71, 81, 101, 102]"
      ]
     },
     "execution_count": 55,
     "metadata": {},
     "output_type": "execute_result"
    }
   ],
   "source": [
    "nsmallest(10, m)"
   ]
  },
  {
   "cell_type": "code",
   "execution_count": 53,
   "id": "norwegian-addition",
   "metadata": {},
   "outputs": [
    {
     "data": {
      "text/plain": [
       "[884, 900, 933, 922, 903, 954, 935, 984, 938, 918]"
      ]
     },
     "execution_count": 53,
     "metadata": {},
     "output_type": "execute_result"
    }
   ],
   "source": [
    "heap = []\n",
    "for i in m:\n",
    "    heappush(heap, i)\n",
    "    if len(heap) > 10: heappop(heap)\n",
    "\n",
    "heap\n"
   ]
  },
  {
   "cell_type": "markdown",
   "id": "exceptional-milan",
   "metadata": {},
   "source": [
    "##### 大顶堆\n",
    "##### 小顶堆\n",
    "##### 口诀: \n",
    "- 1. 将堆顶元素与堆尾元素 "
   ]
  },
  {
   "cell_type": "markdown",
   "id": "strong-annotation",
   "metadata": {},
   "source": [
    "### 一、堆的基础应用"
   ]
  },
  {
   "cell_type": "markdown",
   "id": "contained-multiple",
   "metadata": {},
   "source": [
    "### 1. leetcode-剑指 Offer 40. 最小的k个数\n",
    "https://leetcode-cn.com/problems/zui-xiao-de-kge-shu-lcof/"
   ]
  },
  {
   "cell_type": "code",
   "execution_count": 59,
   "id": "behavioral-implementation",
   "metadata": {},
   "outputs": [],
   "source": [
    "from typing import List\n",
    "from heapq import *\n",
    "class Solution:\n",
    "    def getLeastNumbers(self, arr: List[int], k: int) -> List[int]:\n",
    "        arr = sorted(arr)\n",
    "        return arr[:k]\n",
    "        \n",
    "    def getLeastNumbers2(self, arr: List[int], k: int) -> List[int]:\n",
    "        heap = []\n",
    "        for a in arr:\n",
    "            heappush(heap, -a)\n",
    "            if len(heap) > k: heappop(heap)\n",
    "        return [-h for h in heap]\n",
    "    def getLeastNumbers3(self, arr: List[int], k: int) -> List[int]:\n",
    "        heap = []\n",
    "        for i in range(k):\n",
    "            a = arr.pop(0)\n",
    "            heappush(heap, -a)\n",
    "        for a in arr:\n",
    "            if k > 0 and -a > heap[0]:\n",
    "                heappushpop(heap, -a)\n",
    "            else:\n",
    "                continue\n",
    "        return [-h for h in heap]"
   ]
  },
  {
   "cell_type": "markdown",
   "id": "satisfactory-federation",
   "metadata": {},
   "source": [
    "### 2. leetcode-1046. 最后一块石头的重量\n",
    "https://leetcode-cn.com/problems/last-stone-weight/"
   ]
  },
  {
   "cell_type": "code",
   "execution_count": 11,
   "id": "sensitive-adjustment",
   "metadata": {},
   "outputs": [],
   "source": [
    "class Solution:\n",
    "    def lastStoneWeight(self, stones: List[int]) -> int:\n",
    "        stones = sorted(stones, reverse=True)\n",
    "        while len(stones) != 1 and len(stones) != 0:\n",
    "            stones = sorted(stones, reverse=True)\n",
    "            if stones[0] == stones[1]:\n",
    "                stones.pop(0)\n",
    "                stones.pop(0)\n",
    "            else:\n",
    "                x = stones.pop(0)\n",
    "                y = stones.pop(0)\n",
    "                stones.insert(0, x -y)\n",
    "        return len(stones) and stones[0]\n",
    "    \n",
    "    def lastStoneWeight(self, stones: List[int]) -> int:\n",
    "        while len(stones) != 1 and len(stones) != 0:\n",
    "            s1 = max(stones)\n",
    "            stones.pop(stones.index(s1))\n",
    "            s2 = max(stones)\n",
    "            stones.pop(stones.index(s2))\n",
    "            if s1 == s2: continue\n",
    "            else:\n",
    "                stones.insert(0, s1 - s2)\n",
    "        return len(stones) and stones[0]"
   ]
  },
  {
   "cell_type": "markdown",
   "id": "mediterranean-touch",
   "metadata": {},
   "source": [
    "### 3. leetcode-703. 数据流中的第 K 大元素\n",
    "https://leetcode-cn.com/problems/kth-largest-element-in-a-stream/"
   ]
  },
  {
   "cell_type": "code",
   "execution_count": 12,
   "id": "handed-sleep",
   "metadata": {},
   "outputs": [],
   "source": [
    "class KthLargest:\n",
    "    def __init__(self, k: int, nums: List[int]):\n",
    "        self.k = k\n",
    "        self.res = []\n",
    "        for n in nums:\n",
    "            self.res.append(n)\n",
    "        self.res = sorted(self.res, reverse=True)\n",
    "\n",
    "    def add(self, val: int) -> int:\n",
    "        self.res.append(val)\n",
    "        self.res = sorted(self.res, reverse=True)\n",
    "        return self.res[self.k-1]"
   ]
  },
  {
   "cell_type": "markdown",
   "id": "humanitarian-scholar",
   "metadata": {},
   "source": [
    "### 4. leetcode-373. 查找和最小的K对数字\n",
    "https://leetcode-cn.com/problems/find-k-pairs-with-smallest-sums/"
   ]
  },
  {
   "cell_type": "code",
   "execution_count": null,
   "id": "romance-bristol",
   "metadata": {},
   "outputs": [],
   "source": []
  },
  {
   "cell_type": "markdown",
   "id": "fancy-termination",
   "metadata": {},
   "source": [
    "### 5. leetcode-215. 数组中的第K个最大元素\n",
    "https://leetcode-cn.com/problems/kth-largest-element-in-an-array/"
   ]
  },
  {
   "cell_type": "code",
   "execution_count": null,
   "id": "oriented-special",
   "metadata": {},
   "outputs": [],
   "source": [
    "class Solution:\n",
    "    def findKthLargest(self, nums: List[int], k: int) -> int:\n",
    "        nums = sorted(nums, reverse=True)\n",
    "        return nums[k - 1]"
   ]
  },
  {
   "cell_type": "markdown",
   "id": "connected-princeton",
   "metadata": {},
   "source": [
    "### 二、堆的进阶应用\n",
    "### 6. leetcode-355. 设计推特\n",
    "https://leetcode-cn.com/problems/design-twitter/"
   ]
  },
  {
   "cell_type": "code",
   "execution_count": null,
   "id": "sensitive-immigration",
   "metadata": {},
   "outputs": [],
   "source": []
  },
  {
   "cell_type": "markdown",
   "id": "judicial-integration",
   "metadata": {},
   "source": [
    "### 7. leetcode-692. 前K个高频单词\n",
    "https://leetcode-cn.com/problems/top-k-frequent-words/"
   ]
  },
  {
   "cell_type": "code",
   "execution_count": null,
   "id": "formed-forty",
   "metadata": {},
   "outputs": [],
   "source": []
  },
  {
   "cell_type": "markdown",
   "id": "collectible-toronto",
   "metadata": {},
   "source": [
    "### 8. leetcode-面试题 17.20. 连续中值\n",
    "https://leetcode-cn.com/problems/continuous-median-lcci/"
   ]
  },
  {
   "cell_type": "code",
   "execution_count": null,
   "id": "local-specification",
   "metadata": {},
   "outputs": [],
   "source": []
  },
  {
   "cell_type": "markdown",
   "id": "productive-monkey",
   "metadata": {},
   "source": [
    "### 9. leetcode-剑指 Offer 41. 数据流中的中位数\n",
    "https://leetcode-cn.com/problems/shu-ju-liu-zhong-de-zhong-wei-shu-lcof/"
   ]
  },
  {
   "cell_type": "code",
   "execution_count": null,
   "id": "hairy-project",
   "metadata": {},
   "outputs": [],
   "source": []
  },
  {
   "cell_type": "markdown",
   "id": "presidential-organization",
   "metadata": {},
   "source": [
    "### 10. leetcode-1801. 积压订单中的订单总数\n",
    "https://leetcode-cn.com/problems/number-of-orders-in-the-backlog/"
   ]
  },
  {
   "cell_type": "code",
   "execution_count": null,
   "id": "alpha-bosnia",
   "metadata": {},
   "outputs": [],
   "source": []
  },
  {
   "cell_type": "markdown",
   "id": "functional-layer",
   "metadata": {},
   "source": [
    "### 三、智力发散题\n",
    "### 11. leetcode-264. 丑数 II\n",
    "https://leetcode-cn.com/problems/ugly-number-ii/"
   ]
  },
  {
   "cell_type": "code",
   "execution_count": null,
   "id": "choice-traffic",
   "metadata": {},
   "outputs": [],
   "source": []
  },
  {
   "cell_type": "markdown",
   "id": "indonesian-indication",
   "metadata": {},
   "source": [
    "### 12. leetcode-313. 超级丑数\n",
    "https://leetcode-cn.com/problems/super-ugly-number/"
   ]
  },
  {
   "cell_type": "code",
   "execution_count": null,
   "id": "amber-start",
   "metadata": {},
   "outputs": [],
   "source": []
  },
  {
   "cell_type": "markdown",
   "id": "difficult-desktop",
   "metadata": {},
   "source": [
    "### 13. leetcode-1753. 移除石子的最大得分\n",
    "https://leetcode-cn.com/problems/maximum-score-from-removing-stones/"
   ]
  },
  {
   "cell_type": "code",
   "execution_count": 1,
   "id": "increased-scottish",
   "metadata": {},
   "outputs": [],
   "source": [
    "class Solution:\n",
    "    def maximumScore(self, a: int, b: int, c: int) -> int:\n",
    "        \"\"\"\n",
    "        一个很纯粹的想法是每一次从较大的两堆石头中取出一块石头，所以存在两种情况（对abc排序之后），\n",
    "        当a + b小于等于c时那么得分应该是a + b，当a + b大于c时那么应该是c + (a + b - c) / 2\n",
    "        \"\"\"\n",
    "        nums = [a, b, c]\n",
    "        nums = sorted(nums)\n",
    "        a, b, c = nums[0], nums[1], nums[2]\n",
    "        if a + b < c:\n",
    "            return a + b\n",
    "        else:\n",
    "            return c + (a + b - c) // 2"
   ]
  }
 ],
 "metadata": {
  "kernelspec": {
   "display_name": "Python 3",
   "language": "python",
   "name": "python3"
  },
  "language_info": {
   "codemirror_mode": {
    "name": "ipython",
    "version": 3
   },
   "file_extension": ".py",
   "mimetype": "text/x-python",
   "name": "python",
   "nbconvert_exporter": "python",
   "pygments_lexer": "ipython3",
   "version": "3.8.0"
  }
 },
 "nbformat": 4,
 "nbformat_minor": 5
}
