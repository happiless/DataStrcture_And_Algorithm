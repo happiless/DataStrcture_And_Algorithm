{
 "cells": [
  {
   "cell_type": "markdown",
   "id": "architectural-cross",
   "metadata": {},
   "source": [
    "### 1. LeetCode-141：环状链表\n",
    "https://leetcode-cn.com/problems/linked-list-cycle/"
   ]
  },
  {
   "cell_type": "code",
   "execution_count": 3,
   "id": "organic-church",
   "metadata": {},
   "outputs": [],
   "source": [
    "class ListNode:\n",
    "    def __init__(self, x):\n",
    "        self.val = x\n",
    "        self.next = None"
   ]
  },
  {
   "cell_type": "code",
   "execution_count": 4,
   "id": "flexible-firmware",
   "metadata": {},
   "outputs": [],
   "source": [
    "class Solution:\n",
    "    def hasCycle(self, head: ListNode) -> bool:\n",
    "        \"\"\"\n",
    "        快慢指针判环\n",
    "        \"\"\"\n",
    "        if not head or not head.next: return False\n",
    "        slow, fast = head, head.next\n",
    "        while fast and fast.next and slow != fast:\n",
    "            fast = fast.next.next\n",
    "            slow = slow.next\n",
    "\n",
    "        return fast == slow"
   ]
  },
  {
   "cell_type": "markdown",
   "id": "loose-wiring",
   "metadata": {},
   "source": [
    "### 2. LeetCode-142：环状链表二\n",
    "https://leetcode-cn.com/problems/linked-list-cycle-ii/"
   ]
  },
  {
   "cell_type": "code",
   "execution_count": 11,
   "id": "exotic-membrane",
   "metadata": {},
   "outputs": [],
   "source": [
    "class Solution:\n",
    "    def detectCycle(self, head: ListNode) -> ListNode:\n",
    "        \"\"\"\n",
    "        1. 设慢指针进入环的时候的距离为a， 则快指针的距离为2a\n",
    "        2. 设快指针再次走到环的入口的距离为x，则环的长度为a + x\n",
    "        3. 当此时慢指针走了x/2，慢指针离环入库x/2+a， 快慢指针此时的距离为x/2\n",
    "        4. 快慢指针没走一次接近一步，所以需要x/2步，快慢指针相遇，相遇后快慢指针距换入口的距离为a\n",
    "        5. 满指针只想链表头，一起走a步，快慢指针相遇点即是环入口\n",
    "        \"\"\"\n",
    "        if not head or not head.next: return None\n",
    "        slow, fast = head, head\n",
    "        slow = slow.next\n",
    "        fast = fast.next.next\n",
    "\n",
    "        while fast and fast.next and slow != fast:\n",
    "            slow = slow.next\n",
    "            fast = fast.next.next\n",
    "        if fast != slow: return None\n",
    "        slow = head\n",
    "        while slow != fast:\n",
    "            slow = slow.next\n",
    "            fast = fast.next\n",
    "        return slow"
   ]
  },
  {
   "cell_type": "markdown",
   "id": "clinical-stability",
   "metadata": {},
   "source": [
    "### 3. LeetCode-202：快乐数\n",
    "https://leetcode-cn.com/problems/happy-number/"
   ]
  },
  {
   "cell_type": "code",
   "execution_count": 12,
   "id": "distinct-textbook",
   "metadata": {},
   "outputs": [],
   "source": [
    "class Solution:\n",
    "    def getNext(self, n):\n",
    "        res = 0\n",
    "        while n:\n",
    "            res += (n % 10) ** 2\n",
    "            n //= 10\n",
    "        return res\n",
    "    def isHappy(self, n: int) -> bool:\n",
    "        \"\"\"\n",
    "        类似链表判环， 判断是否循环\n",
    "        \"\"\"\n",
    "        slow = self.getNext(n)\n",
    "        fast = self.getNext(self.getNext(n))\n",
    "        while slow != fast and fast != 1:\n",
    "            slow = self.getNext(slow)\n",
    "            fast = self.getNext(self.getNext(fast))\n",
    "        return fast == 1"
   ]
  },
  {
   "cell_type": "markdown",
   "id": "former-nitrogen",
   "metadata": {},
   "source": [
    "### 4. LeetCode-206： 反转链表\n",
    "https://leetcode-cn.com/problems/reverse-linked-list/"
   ]
  },
  {
   "cell_type": "code",
   "execution_count": 8,
   "id": "progressive-swiss",
   "metadata": {},
   "outputs": [],
   "source": [
    "class Solution:\n",
    "    def reverseList(self, head: ListNode) -> ListNode:\n",
    "        \"\"\"\n",
    "        1. 引入虚拟头 pre， 当前节点cur， 当前的下一个节点 p\n",
    "        2. 只要当前 cur节点不为空就循环，\n",
    "            1）将当前的下一个节点指向pre，\n",
    "            2）并将cur赋值给pre\n",
    "            3）将p赋值给cur\n",
    "            4）如果p不为空，就将p赋值为p的下一个节点\n",
    "        \"\"\"\n",
    "        if not head or not head.next: return head\n",
    "        pre = None\n",
    "        cur = head\n",
    "        p = head.next\n",
    "        while cur:\n",
    "            cur.next = pre\n",
    "            pre = cur\n",
    "            cur = p\n",
    "            if p: p = p.next\n",
    "        \n",
    "        return pre\n",
    "    \n",
    "    def reverseListByRecurrent(self, head:ListNode) -> ListNode:\n",
    "        \"\"\"\n",
    "        递归反转， 一次拆掉一个节点并递归处理剩余的子链表\n",
    "        1. head的next指向空\n",
    "        2. tail的next指向head\n",
    "        3. tail 赋值给 head\n",
    "        \"\"\"\n",
    "        if not head or not head.next: return head\n",
    "        tail = head.next\n",
    "        p = self.reverseList(head.next)\n",
    "        head.next = tail.next\n",
    "        tail.next = head\n",
    "        head = tail\n",
    "        return p"
   ]
  },
  {
   "cell_type": "markdown",
   "id": "dietary-channel",
   "metadata": {},
   "source": [
    "### 5. LeetCode-92：反转链表二 \n",
    "https://leetcode-cn.com/problems/reverse-linked-list-ii/"
   ]
  },
  {
   "cell_type": "code",
   "execution_count": null,
   "id": "looking-serve",
   "metadata": {},
   "outputs": [],
   "source": []
  },
  {
   "cell_type": "markdown",
   "id": "hybrid-colombia",
   "metadata": {},
   "source": [
    "### 6. LeetCode-25 K个一组翻转链表\n",
    "https://leetcode-cn.com/problems/reverse-nodes-in-k-group/"
   ]
  },
  {
   "cell_type": "code",
   "execution_count": null,
   "id": "musical-company",
   "metadata": {},
   "outputs": [],
   "source": []
  },
  {
   "cell_type": "markdown",
   "id": "surprising-winning",
   "metadata": {},
   "source": [
    "### 7. LeetCode-61 旋转链表\n",
    "https://leetcode-cn.com/problems/rotate-list/"
   ]
  },
  {
   "cell_type": "code",
   "execution_count": 15,
   "id": "genuine-festival",
   "metadata": {},
   "outputs": [],
   "source": [
    "class Solution:\n",
    "    def rotateRight(self, head: ListNode, k: int) -> ListNode:\n",
    "        if not head or not head.next: return head\n",
    "        cnt = 1\n",
    "        p = head\n",
    "        while p.next:\n",
    "            p = p.next\n",
    "            cnt += 1\n",
    "        p.next = head\n",
    "        k %= cnt\n",
    "        cnt -= k\n",
    "        while cnt:\n",
    "            cnt -= 1\n",
    "            p = p.next\n",
    "        head = p.next\n",
    "        p.next = None\n",
    "        return head"
   ]
  },
  {
   "cell_type": "markdown",
   "id": "limited-schema",
   "metadata": {},
   "source": [
    "### 8. LeetCode-24 两两交换链表中的节点\n",
    "https://leetcode-cn.com/problems/swap-nodes-in-pairs/"
   ]
  },
  {
   "cell_type": "code",
   "execution_count": null,
   "id": "amended-reaction",
   "metadata": {},
   "outputs": [],
   "source": []
  },
  {
   "cell_type": "markdown",
   "id": "pressed-beginning",
   "metadata": {},
   "source": [
    "### 9. LeetCode-19 删除链表的倒数第N个节点\n",
    "https://leetcode-cn.com/problems/remove-nth-node-from-end-of-list/"
   ]
  },
  {
   "cell_type": "code",
   "execution_count": null,
   "id": "running-verse",
   "metadata": {},
   "outputs": [],
   "source": [
    "class Solution:\n",
    "    def removeNthFromEnd(self, head: ListNode, n: int) -> ListNode:\n",
    "        if not head: return None\n",
    "        pre = ListNode()\n",
    "        pre.next = head\n",
    "        p = pre\n",
    "        cnt = 0\n",
    "        while p:\n",
    "            cnt += 1\n",
    "            p = p.next\n",
    "        m = cnt - n - 1\n",
    "        p = pre\n",
    "        while m:\n",
    "            m -= 1\n",
    "            p = p.next\n",
    "        p.next = p.next.next\n",
    "        return pre.next\n",
    "    def removeNthFromEnd2(self, head: ListNode, n: int) -> ListNode:\n",
    "        \"\"\"\n",
    "        1. 使用虚拟头，p，q节点，q往后走n步\n",
    "        2. 然后p指向虚拟头，q走到链表结尾，p刚好走到倒数第n个节点\n",
    "        \"\"\"\n",
    "        if not head: return None\n",
    "        pre = ListNode()\n",
    "        pre.next = head\n",
    "        p, q = pre, head\n",
    "        while n:\n",
    "            n -= 1\n",
    "            q = q.next\n",
    "        \n",
    "        while q:\n",
    "            q = q.next\n",
    "            p = p.next\n",
    "        p.next = p.next.next\n",
    "        return pre.next"
   ]
  },
  {
   "cell_type": "markdown",
   "id": "painted-condition",
   "metadata": {},
   "source": [
    "### 10. LeetCode-83 删除排序链表中的重复节点 \n",
    "https://leetcode-cn.com/problems/remove-duplicates-from-sorted-list/"
   ]
  },
  {
   "cell_type": "code",
   "execution_count": 13,
   "id": "leading-turkish",
   "metadata": {},
   "outputs": [],
   "source": [
    "class Solution:\n",
    "    def deleteDuplicates(self, head: ListNode) -> ListNode:\n",
    "        if not head or not head.next: return head\n",
    "        \n",
    "        p, q = head, head.next\n",
    "        while q:\n",
    "            if p.val == q.val:\n",
    "                p.next = q.next\n",
    "            else:\n",
    "                p = q\n",
    "            q = q.next\n",
    "        return head\n",
    "    \n",
    "    def deleteDuplicates2(self, head: ListNode) -> ListNode:\n",
    "        if not head or not head.next: return head\n",
    "        p = head\n",
    "        while p:\n",
    "            if p.val == p.next.val:\n",
    "                p.next = p.next.next\n",
    "            else:\n",
    "                p = p.next\n",
    "        return p\n",
    "        "
   ]
  },
  {
   "cell_type": "markdown",
   "id": "commercial-update",
   "metadata": {},
   "source": [
    "### 11. LeetCode-82 删除排序链表中的重复节点II\n",
    "https://leetcode-cn.com/problems/remove-duplicates-from-sorted-list-ii/"
   ]
  },
  {
   "cell_type": "code",
   "execution_count": 14,
   "id": "particular-gathering",
   "metadata": {},
   "outputs": [],
   "source": [
    "class Solution:\n",
    "    def deleteDuplicates(self, head: ListNode) -> ListNode:\n",
    "        if not head or not head.next: return head\n",
    "        pre = ListNode()\n",
    "        pre.next = head\n",
    "        p = pre\n",
    "        while p.next:\n",
    "            if p.next.next and p.next.val == p.next.next.val:\n",
    "                q = p.next.next\n",
    "                while q and q.val == p.next.val:\n",
    "                    q = q.next\n",
    "                p.next = q\n",
    "            else:\n",
    "                p = p.next\n",
    "        return pre.next"
   ]
  }
 ],
 "metadata": {
  "kernelspec": {
   "display_name": "Python 3",
   "language": "python",
   "name": "python3"
  },
  "language_info": {
   "codemirror_mode": {
    "name": "ipython",
    "version": 3
   },
   "file_extension": ".py",
   "mimetype": "text/x-python",
   "name": "python",
   "nbconvert_exporter": "python",
   "pygments_lexer": "ipython3",
   "version": "3.8.0"
  }
 },
 "nbformat": 4,
 "nbformat_minor": 5
}
