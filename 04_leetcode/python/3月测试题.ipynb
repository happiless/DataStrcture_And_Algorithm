{
 "cells": [
  {
   "cell_type": "markdown",
   "id": "brutal-respondent",
   "metadata": {},
   "source": [
    "### 数列第n项是对第n-1项的描述"
   ]
  },
  {
   "cell_type": "code",
   "execution_count": null,
   "id": "helpful-vegetable",
   "metadata": {},
   "outputs": [],
   "source": [
    "def describe(number):\n",
    "    last_digit = None\n",
    "    amount = 0\n",
    "    descriptions = list()\n",
    "    for digit in f\"{number}#\":\n",
    "        if digit == last_digit: # 统计当前值的个数\n",
    "            amount += 1\n",
    "        else: # 只要不是当前值, 就做存储, 更新, 也包括最后家的特殊字符#\n",
    "            if last_digit:\n",
    "                descriptions.append((last_digit, amount)) # 将当前值与个数存放\n",
    "            last_digit = digit # 更新当前值\n",
    "            amount = 1 # 更新计数\n",
    "    description = \"\"\n",
    "    for digit, amount in descriptions: # 写成字符串\n",
    "        description += (str(amount) + digit)\n",
    "    return description"
   ]
  },
  {
   "cell_type": "code",
   "execution_count": null,
   "id": "owned-collector",
   "metadata": {},
   "outputs": [],
   "source": [
    "a = [\"1\"]\n",
    "while len(a) < 50:\n",
    "    a.append(describe(a[-1]))\n",
    "\n",
    "len(a[-1])"
   ]
  },
  {
   "cell_type": "markdown",
   "id": "informational-airplane",
   "metadata": {},
   "source": [
    "### 1. 倒数第k个数"
   ]
  },
  {
   "cell_type": "code",
   "execution_count": 71,
   "id": "metallic-month",
   "metadata": {},
   "outputs": [
    {
     "name": "stdout",
     "output_type": "stream",
     "text": [
      "4\n",
      "5\n"
     ]
    }
   ],
   "source": [
    "class ListNode:\n",
    "    def __init__(self, x):\n",
    "        self.val = x\n",
    "        self.next = None\n",
    "\n",
    "class Solution:\n",
    "    def getKthFromEnd(self, head: ListNode, k: int) -> ListNode:\n",
    "        fast = head\n",
    "        slow = head\n",
    "        for _ in range(k):\n",
    "            fast = fast.next\n",
    "        while fast:\n",
    "            slow = slow.next\n",
    "            fast = fast.next\n",
    "        return slow\n",
    "\n",
    "l1 = ListNode(1)\n",
    "l2 = ListNode(2)\n",
    "l3 = ListNode(3)\n",
    "l4 = ListNode(4)\n",
    "l5 = ListNode(5)\n",
    "l1.next = l2\n",
    "l2.next = l3\n",
    "l3.next = l4\n",
    "l4.next = l5\n",
    "res = Solution().getKthFromEnd(l1, 2)\n",
    "while res:\n",
    "    print(res.val)\n",
    "    res = res.next"
   ]
  },
  {
   "cell_type": "markdown",
   "id": "induced-swedish",
   "metadata": {},
   "source": [
    "### 2. 复杂链表的复制"
   ]
  },
  {
   "cell_type": "code",
   "execution_count": 125,
   "id": "surprised-classic",
   "metadata": {},
   "outputs": [],
   "source": [
    "class Node:\n",
    "    def __init__(self, x: int, next: 'Node' = None, random: 'Node' = None):\n",
    "        self.val = int(x)\n",
    "        self.next = next\n",
    "        self.random = random\n",
    "\n",
    "class Solution:\n",
    "    def copyRandomList(self, head: 'Node') -> 'Node':\n",
    "        self.tmp = {}\n",
    "        return self.dfs(head)\n",
    "    def dfs(self, head):\n",
    "        if not head:\n",
    "            return None\n",
    "        if head in self.tmp:\n",
    "            return self.tmp[head]\n",
    "        new = Node(head.val)\n",
    "        self.tmp[head] = new\n",
    "        new.next = self.dfs(head.next)\n",
    "        new.random = self.dfs(head.random)\n",
    "        return new"
   ]
  },
  {
   "cell_type": "markdown",
   "id": "extraordinary-kinase",
   "metadata": {},
   "source": [
    "### 3. 删除中间节点"
   ]
  },
  {
   "cell_type": "code",
   "execution_count": 74,
   "id": "sound-emergency",
   "metadata": {},
   "outputs": [
    {
     "name": "stdout",
     "output_type": "stream",
     "text": [
      "1\n",
      "2\n",
      "4\n",
      "5\n"
     ]
    }
   ],
   "source": [
    "class Solution:\n",
    "    def deleteNode(self, node):\n",
    "        node.val = node.next.val\n",
    "        node.next = node.next.next\n",
    "\n",
    "Solution().deleteNode(l3)\n",
    "while l1:\n",
    "    print(l1.val)\n",
    "    l1 = l1.next"
   ]
  },
  {
   "cell_type": "markdown",
   "id": "incorporate-selection",
   "metadata": {},
   "source": [
    "### 4. 两数相加Ⅱ"
   ]
  },
  {
   "cell_type": "code",
   "execution_count": 77,
   "id": "contained-horizontal",
   "metadata": {},
   "outputs": [],
   "source": [
    "class Solution:\n",
    "    def addTwoNumbers(self, l1: ListNode, l2: ListNode) -> ListNode:\n",
    "        s1 = []\n",
    "        s2 = []\n",
    "        pre1, pre2 = l1, l2\n",
    "        while pre1:\n",
    "            s1.append(pre1.val)\n",
    "            pre1 = pre1.next\n",
    "        while pre2:\n",
    "            s2.append(pre2.val)\n",
    "            pre2 = pre2.next\n",
    "        new = None\n",
    "        carry = 0\n",
    "        print(s1, s2)\n",
    "        while s1 or s2 or carry != 0:\n",
    "            value1 = 0 if not s1 else s1.pop()\n",
    "            value2 = 0 if not s2 else s2.pop()\n",
    "            value = value1 + value2 + carry\n",
    "            carry = value // 10\n",
    "            node = ListNode(value % 10)\n",
    "            node.next = new\n",
    "            new = node\n",
    "        return new"
   ]
  },
  {
   "cell_type": "code",
   "execution_count": 78,
   "id": "pretty-bulletin",
   "metadata": {},
   "outputs": [
    {
     "name": "stdout",
     "output_type": "stream",
     "text": [
      "[7, 2, 4, 3] [5, 6, 4]\n",
      "7\n",
      "8\n",
      "0\n",
      "7\n"
     ]
    }
   ],
   "source": [
    "l1 = ListNode(7)\n",
    "l1.next = ListNode(2)\n",
    "l1.next.next = ListNode(4)\n",
    "l1.next.next.next = ListNode(3)\n",
    "\n",
    "l2 = ListNode(5)\n",
    "l2.next = ListNode(6)\n",
    "l2.next.next = ListNode(4)\n",
    "res = Solution().addTwoNumbers(l1, l2)\n",
    "while res:\n",
    "    print(res.val)\n",
    "    res = res.next"
   ]
  },
  {
   "cell_type": "markdown",
   "id": "textile-member",
   "metadata": {},
   "source": [
    "### 5. 重排链表"
   ]
  },
  {
   "cell_type": "code",
   "execution_count": 79,
   "id": "generic-andrews",
   "metadata": {},
   "outputs": [],
   "source": [
    "class Solution:\n",
    "    def reorderList(self, head:ListNode) -> ListNode:\n",
    "        stack = []\n",
    "        pre = head\n",
    "        while pre:\n",
    "            stack.append(pre)\n",
    "            pre = pre.next\n",
    "        pre = head\n",
    "        k = len(stack) // 2\n",
    "        while k:\n",
    "            k -= 1\n",
    "            ln = stack.pop()\n",
    "            ln.next = pre.next\n",
    "            pre.next = ln\n",
    "            pre = ln.next\n",
    "        pre.next = None\n",
    "        return head"
   ]
  },
  {
   "cell_type": "code",
   "execution_count": 80,
   "id": "lucky-parts",
   "metadata": {},
   "outputs": [
    {
     "name": "stdout",
     "output_type": "stream",
     "text": [
      "1\n",
      "4\n",
      "2\n",
      "3\n"
     ]
    }
   ],
   "source": [
    "l1 = ListNode(1)\n",
    "l1.next = ListNode(2)\n",
    "l1.next.next = ListNode(3)\n",
    "l1.next.next.next = ListNode(4)\n",
    "\n",
    "res = Solution().reorderList(l1)\n",
    "while res:\n",
    "    print(res.val)\n",
    "    res = res.next"
   ]
  },
  {
   "cell_type": "markdown",
   "id": "checked-assault",
   "metadata": {},
   "source": [
    "### 6. 环路检测"
   ]
  },
  {
   "cell_type": "code",
   "execution_count": 82,
   "id": "moderate-omega",
   "metadata": {},
   "outputs": [],
   "source": [
    "class Solution:\n",
    "    def detectCycle(self, head: ListNode) -> ListNode:\n",
    "        if not head or not head.next: return None\n",
    "        fast = head\n",
    "        slow = head\n",
    "        fast = fast.next\n",
    "        while fast != slow:\n",
    "            if not fast or not fast.next or not fast.next.next:\n",
    "                return None\n",
    "            fast = fast.next.next\n",
    "            slow = slow.next\n",
    "        slow = slow.next \n",
    "        pre = head\n",
    "        while pre != slow:\n",
    "            pre = pre.next\n",
    "            slow = slow.next\n",
    "        return pre"
   ]
  },
  {
   "cell_type": "markdown",
   "id": "juvenile-virgin",
   "metadata": {},
   "source": [
    "### 7. 设计链表"
   ]
  },
  {
   "cell_type": "code",
   "execution_count": 92,
   "id": "stock-watson",
   "metadata": {},
   "outputs": [
    {
     "name": "stdout",
     "output_type": "stream",
     "text": [
      "[1, 3, 2]\n"
     ]
    }
   ],
   "source": [
    "class ListNode:\n",
    "    def __init__(self, x):\n",
    "        self.val = x\n",
    "        self.next = None\n",
    "\n",
    "class MyLinkedList:\n",
    "\n",
    "    def __init__(self):\n",
    "        self.head = None\n",
    "    \n",
    "    def node_print(self, head):\n",
    "        if not head:\n",
    "            print(\"Null\")\n",
    "            return\n",
    "        node_list = []\n",
    "        while head:\n",
    "            node_list.append(head.val)\n",
    "            head = head.next\n",
    "        print(node_list)\n",
    "        return\n",
    "\n",
    "    def get(self, index: int) -> int:\n",
    "        tmp = self.head\n",
    "        for _ in range(index):\n",
    "            tmp = tmp.next\n",
    "            if not tmp: return -1\n",
    "        return tmp.val\n",
    "\n",
    "\n",
    "    def addAtHead(self, val: int) -> None:\n",
    "        if not self.head:\n",
    "            self.head = ListNode(val)\n",
    "            return\n",
    "        new_node = ListNode(va)\n",
    "        new_node.next = self.head\n",
    "        self.head = new_node\n",
    "        return\n",
    "\n",
    "    def addAtTail(self, val: int) -> None:\n",
    "        if not self.head:\n",
    "            self.head = ListNode(val)\n",
    "            return\n",
    "        tmp = self.head\n",
    "        while tmp.next:\n",
    "            tmp = tmp.next\n",
    "        tmp.next = ListNode(val)\n",
    "        return\n",
    "\n",
    "    def addAtIndex(self, index: int, val: int) -> None:\n",
    "        if not self.head:\n",
    "            self.head = ListNode(val)\n",
    "        else:\n",
    "            tmp = self.head\n",
    "            for _ in range(index):\n",
    "                if not tmp: return\n",
    "                tmp = tmp.next\n",
    "            if tmp.next:\n",
    "                tmp1 = tmp.next\n",
    "                tmp.next = ListNode(val)\n",
    "                tmp.next.next = tmp1\n",
    "            else:\n",
    "                tmp.next = ListNode(val)\n",
    "        return\n",
    "\n",
    "    def deleteAtIndex(self, index: int) -> None:\n",
    "        if index == 0:\n",
    "            tmp = self.head\n",
    "            self.head = self.head.next\n",
    "            tmp.next = None\n",
    "            return\n",
    "        tmp = self.head\n",
    "        for _ in range(index + 1):\n",
    "            tmp = tmp.next\n",
    "            if not tmp.next: return\n",
    "        if tmp.next:\n",
    "            tmp.next = tmp.next.next\n",
    "        else:\n",
    "            tmp.next = None\n",
    "        return\n",
    "\n",
    "obj = MyLinkedList()\n",
    "obj.addAtHead(1)\n",
    "obj.addAtTail(3)\n",
    "obj.addAtIndex(1,2)\n",
    "param_1 = obj.get(1)\n",
    "obj.deleteAtIndex(1)\n",
    "# param_1 = obj.get(1)\n",
    "obj.node_print(obj.head)"
   ]
  },
  {
   "cell_type": "markdown",
   "id": "tired-minister",
   "metadata": {},
   "source": [
    "### 8. 删除链表中的节点"
   ]
  },
  {
   "cell_type": "code",
   "execution_count": 93,
   "id": "advisory-touch",
   "metadata": {},
   "outputs": [],
   "source": [
    "class Solution:\n",
    "    def deleteNode(self, head: ListNode, val: int) -> ListNode:\n",
    "        if head.val == val: return head.next\n",
    "        pre, cur = head, head\n",
    "        while cur and cur.val != val:\n",
    "            pre, cur = cur, cur.next\n",
    "        if cur:\n",
    "            pre.next = cur.next\n",
    "        return head"
   ]
  },
  {
   "cell_type": "markdown",
   "id": "settled-mother",
   "metadata": {},
   "source": [
    "### 9. 分隔链表"
   ]
  },
  {
   "cell_type": "code",
   "execution_count": 114,
   "id": "binding-sewing",
   "metadata": {},
   "outputs": [],
   "source": [
    "from typing import List\n",
    "class Solution:\n",
    "    def splitListToParts(self, root: ListNode, k: int) -> List[ListNode]:\n",
    "        cur = root\n",
    "        n = 0\n",
    "        while cur:\n",
    "            n += 1\n",
    "            cur = cur.next\n",
    "        \n",
    "        width, remainder = divmod(n, k)\n",
    "        ans = []\n",
    "        cur = root\n",
    "        for i in range(k):\n",
    "            head = write = ListNode(None)\n",
    "            for j in range(width + (i < remainder)):\n",
    "                write.next = write = ListNode(cur.val)\n",
    "                if cur: cur = cur.next\n",
    "            ans.append(head.next)\n",
    "        return ans"
   ]
  },
  {
   "cell_type": "markdown",
   "id": "controlling-produce",
   "metadata": {},
   "source": [
    "### 10. 分割链表"
   ]
  },
  {
   "cell_type": "code",
   "execution_count": 112,
   "id": "liquid-happiness",
   "metadata": {},
   "outputs": [],
   "source": [
    "class Solution:\n",
    "    def partition(self, head: ListNode, x: int) -> ListNode:\n",
    "        p, q = head, head\n",
    "        while q:\n",
    "            if q.val < x:\n",
    "                q.val, p.val = p.val, q.val\n",
    "                p = p.next\n",
    "            q = q.next\n",
    "        return head"
   ]
  },
  {
   "cell_type": "markdown",
   "id": "ready-alpha",
   "metadata": {},
   "source": [
    "### 11. 第K个语法符号"
   ]
  },
  {
   "cell_type": "code",
   "execution_count": 111,
   "id": "bottom-compound",
   "metadata": {},
   "outputs": [],
   "source": [
    "class Solution:\n",
    "    def kthGrammar(self, N: int, K: int) -> int:\n",
    "        if N == 1: return 0\n",
    "        ret = self.kthGrammar(N - 1, (K + 1) // 2)\n",
    "        if K % 2: return ret\n",
    "        return 1 - ret"
   ]
  },
  {
   "cell_type": "markdown",
   "id": "legal-corpus",
   "metadata": {},
   "source": [
    "### 12. 斐波那契数列 \n",
    "-   1. 动态规划"
   ]
  },
  {
   "cell_type": "code",
   "execution_count": 96,
   "id": "charitable-attention",
   "metadata": {},
   "outputs": [
    {
     "data": {
      "text/plain": [
       "55"
      ]
     },
     "execution_count": 96,
     "metadata": {},
     "output_type": "execute_result"
    }
   ],
   "source": [
    "class Solution:\n",
    "    def fib(self, n: int) -> int:\n",
    "        self.hashmap = {}\n",
    "        self.hashmap[0] = 0\n",
    "        self.hashmap[1] = 1\n",
    "        self.mod = 1000000007\n",
    "        return self.calc(n) % self.mod\n",
    "    def calc(self, n):\n",
    "        if n in self.hashmap: return self.hashmap[n]\n",
    "        else:\n",
    "            self.hashmap[n] = self.calc(n - 1) % self.mod + self.calc(n - 2) % self.mod\n",
    "            return self.hashmap[n]\n",
    "Solution().fib(100000000)"
   ]
  },
  {
   "cell_type": "markdown",
   "id": "employed-qatar",
   "metadata": {},
   "source": [
    "-    2. 递推"
   ]
  },
  {
   "cell_type": "code",
   "execution_count": 120,
   "id": "corporate-friendly",
   "metadata": {},
   "outputs": [
    {
     "data": {
      "text/plain": [
       "55"
      ]
     },
     "execution_count": 120,
     "metadata": {},
     "output_type": "execute_result"
    }
   ],
   "source": [
    "class Solution:\n",
    "    def fib(self, n: int) -> int: \n",
    "        a, b = 0, 1\n",
    "        mod = 1000000007\n",
    "        if n == 0: return a\n",
    "        for _ in range(n - 1):\n",
    "            a, b = b, a + b\n",
    "        return b % mod\n",
    "Solution().fib(10)"
   ]
  },
  {
   "cell_type": "markdown",
   "id": "affected-furniture",
   "metadata": {},
   "source": [
    "-    3. 矩阵运算"
   ]
  },
  {
   "cell_type": "code",
   "execution_count": 121,
   "id": "fixed-interview",
   "metadata": {},
   "outputs": [
    {
     "data": {
      "text/plain": [
       "469857088"
      ]
     },
     "execution_count": 121,
     "metadata": {},
     "output_type": "execute_result"
    }
   ],
   "source": [
    "import numpy as np\n",
    "class Solution:\n",
    "    def fib(self, n: int) -> int:\n",
    "        mod = 1000000007\n",
    "        a = np.matrix([[1, 1], [1, 0]])\n",
    "        b = np.matrix([[0, 1], [0, 0]])\n",
    "        ans = np.matrix([[1, 0], [0, 1]])\n",
    "        while n:\n",
    "            if n % 2:\n",
    "                ans = np.mod(np.dot(ans, a), mod)\n",
    "            a = np.mod(np.dot(a, a), mod)\n",
    "            n //= 2\n",
    "        ans = np.mod(np.dot(ans, b), mod)\n",
    "        return ans.item(1, 1)\n",
    "Solution().fib(100000000000000000)"
   ]
  },
  {
   "cell_type": "code",
   "execution_count": 110,
   "id": "cubic-overall",
   "metadata": {},
   "outputs": [
    {
     "data": {
      "text/plain": [
       "3311503426941990459"
      ]
     },
     "execution_count": 110,
     "metadata": {},
     "output_type": "execute_result"
    }
   ],
   "source": [
    "import numpy as np\n",
    "class Solution:\n",
    "    def fib(self, n: int) -> int:\n",
    "        a = np.matrix([[1, 1], [1, 0]])\n",
    "        b = np.matrix([[0, 1], [0, 0]])\n",
    "        ans = np.matrix([[1, 0], [0, 1]])\n",
    "        while n:\n",
    "            if n % 2:\n",
    "                ans = np.dot(ans, a)\n",
    "            a = np.dot(a, a)\n",
    "            n //= 2\n",
    "        ans = np.dot(ans, b)\n",
    "        return ans.item(1, 1)\n",
    "Solution().fib(1000000000)"
   ]
  },
  {
   "cell_type": "code",
   "execution_count": null,
   "id": "central-principal",
   "metadata": {},
   "outputs": [],
   "source": []
  }
 ],
 "metadata": {
  "kernelspec": {
   "display_name": "Python 3",
   "language": "python",
   "name": "python3"
  },
  "language_info": {
   "codemirror_mode": {
    "name": "ipython",
    "version": 3
   },
   "file_extension": ".py",
   "mimetype": "text/x-python",
   "name": "python",
   "nbconvert_exporter": "python",
   "pygments_lexer": "ipython3",
   "version": "3.8.0"
  }
 },
 "nbformat": 4,
 "nbformat_minor": 5
}
