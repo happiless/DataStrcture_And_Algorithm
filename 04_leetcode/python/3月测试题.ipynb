{
 "cells": [
  {
   "cell_type": "markdown",
   "id": "helpful-scene",
   "metadata": {},
   "source": [
    "### 数列第n项是对第n-1项的描述"
   ]
  },
  {
   "cell_type": "code",
   "execution_count": 55,
   "id": "round-acquisition",
   "metadata": {},
   "outputs": [],
   "source": [
    "def describe(number):\n",
    "    last_digit = None\n",
    "    amount = 0\n",
    "    descriptions = list()\n",
    "    for digit in f\"{number}#\":\n",
    "        if digit == last_digit: # 统计当前值的个数\n",
    "            amount += 1\n",
    "        else: # 只要不是当前值, 就做存储, 更新, 也包括最后家的特殊字符#\n",
    "            if last_digit:\n",
    "                descriptions.append((last_digit, amount)) # 将当前值与个数存放\n",
    "            last_digit = digit # 更新当前值\n",
    "            amount = 1 # 更新计数\n",
    "    description = \"\"\n",
    "    for digit, amount in descriptions: # 写成字符串\n",
    "        description += (str(amount) + digit)\n",
    "    return description"
   ]
  },
  {
   "cell_type": "code",
   "execution_count": 63,
   "id": "alien-repeat",
   "metadata": {},
   "outputs": [
    {
     "data": {
      "text/plain": [
       "894810"
      ]
     },
     "execution_count": 63,
     "metadata": {},
     "output_type": "execute_result"
    }
   ],
   "source": [
    "a = [\"1\"]\n",
    "while len(a) < 50:\n",
    "    a.append(describe(a[-1]))\n",
    "\n",
    "len(a[-1])"
   ]
  },
  {
   "cell_type": "markdown",
   "id": "instant-bolivia",
   "metadata": {},
   "source": [
    "### 1. 倒数第k个数"
   ]
  },
  {
   "cell_type": "code",
   "execution_count": 71,
   "id": "revolutionary-platform",
   "metadata": {},
   "outputs": [
    {
     "name": "stdout",
     "output_type": "stream",
     "text": [
      "4\n",
      "5\n"
     ]
    }
   ],
   "source": [
    "class ListNode:\n",
    "    def __init__(self, x):\n",
    "        self.val = x\n",
    "        self.next = None\n",
    "\n",
    "class Solution:\n",
    "    def getKthFromEnd(self, head: ListNode, k: int) -> ListNode:\n",
    "        fast = head\n",
    "        slow = head\n",
    "        for _ in range(k):\n",
    "            fast = fast.next\n",
    "        while fast:\n",
    "            slow = slow.next\n",
    "            fast = fast.next\n",
    "        return slow\n",
    "\n",
    "l1 = ListNode(1)\n",
    "l2 = ListNode(2)\n",
    "l3 = ListNode(3)\n",
    "l4 = ListNode(4)\n",
    "l5 = ListNode(5)\n",
    "l1.next = l2\n",
    "l2.next = l3\n",
    "l3.next = l4\n",
    "l4.next = l5\n",
    "res = Solution().getKthFromEnd(l1, 2)\n",
    "while res:\n",
    "    print(res.val)\n",
    "    res = res.next"
   ]
  },
  {
   "cell_type": "markdown",
   "id": "freelance-format",
   "metadata": {},
   "source": [
    "### 2. 复杂链表的赋值"
   ]
  },
  {
   "cell_type": "code",
   "execution_count": 73,
   "id": "angry-hearing",
   "metadata": {},
   "outputs": [
    {
     "ename": "SyntaxError",
     "evalue": "invalid syntax (<ipython-input-73-c9df5eadc3c5>, line 2)",
     "output_type": "error",
     "traceback": [
      "\u001b[0;36m  File \u001b[0;32m\"<ipython-input-73-c9df5eadc3c5>\"\u001b[0;36m, line \u001b[0;32m2\u001b[0m\n\u001b[0;31m    def copyRandomList(self, head:Node)\u001b[0m\n\u001b[0m                                       ^\u001b[0m\n\u001b[0;31mSyntaxError\u001b[0m\u001b[0;31m:\u001b[0m invalid syntax\n"
     ]
    }
   ],
   "source": [
    "class Solution:\n",
    "    def copyRandomList(self, head:Node):\n",
    "        "
   ]
  },
  {
   "cell_type": "markdown",
   "id": "aggregate-clone",
   "metadata": {},
   "source": [
    "### 3. 删除中间节点"
   ]
  },
  {
   "cell_type": "code",
   "execution_count": 74,
   "id": "forbidden-repository",
   "metadata": {},
   "outputs": [
    {
     "name": "stdout",
     "output_type": "stream",
     "text": [
      "1\n",
      "2\n",
      "4\n",
      "5\n"
     ]
    }
   ],
   "source": [
    "class Solution:\n",
    "    def deleteNode(self, node):\n",
    "        node.val = node.next.val\n",
    "        node.next = node.next.next\n",
    "\n",
    "Solution().deleteNode(l3)\n",
    "while l1:\n",
    "    print(l1.val)\n",
    "    l1 = l1.next"
   ]
  },
  {
   "cell_type": "markdown",
   "id": "innocent-infrastructure",
   "metadata": {},
   "source": [
    "### 4. 两数相加Ⅱ"
   ]
  },
  {
   "cell_type": "code",
   "execution_count": 77,
   "id": "blind-detroit",
   "metadata": {},
   "outputs": [],
   "source": [
    "class Solution:\n",
    "    def addTwoNumbers(self, l1: ListNode, l2: ListNode) -> ListNode:\n",
    "        s1 = []\n",
    "        s2 = []\n",
    "        pre1, pre2 = l1, l2\n",
    "        while pre1:\n",
    "            s1.append(pre1.val)\n",
    "            pre1 = pre1.next\n",
    "        while pre2:\n",
    "            s2.append(pre2.val)\n",
    "            pre2 = pre2.next\n",
    "        new = None\n",
    "        carry = 0\n",
    "        print(s1, s2)\n",
    "        while s1 or s2 or carry != 0:\n",
    "            value1 = 0 if not s1 else s1.pop()\n",
    "            value2 = 0 if not s2 else s2.pop()\n",
    "            value = value1 + value2 + carry\n",
    "            carry = value // 10\n",
    "            node = ListNode(value % 10)\n",
    "            node.next = new\n",
    "            new = node\n",
    "        return new"
   ]
  },
  {
   "cell_type": "code",
   "execution_count": 78,
   "id": "incorporated-understanding",
   "metadata": {},
   "outputs": [
    {
     "name": "stdout",
     "output_type": "stream",
     "text": [
      "[7, 2, 4, 3] [5, 6, 4]\n",
      "7\n",
      "8\n",
      "0\n",
      "7\n"
     ]
    }
   ],
   "source": [
    "l1 = ListNode(7)\n",
    "l1.next = ListNode(2)\n",
    "l1.next.next = ListNode(4)\n",
    "l1.next.next.next = ListNode(3)\n",
    "\n",
    "l2 = ListNode(5)\n",
    "l2.next = ListNode(6)\n",
    "l2.next.next = ListNode(4)\n",
    "res = Solution().addTwoNumbers(l1, l2)\n",
    "while res:\n",
    "    print(res.val)\n",
    "    res = res.next"
   ]
  },
  {
   "cell_type": "markdown",
   "id": "confused-supervisor",
   "metadata": {},
   "source": [
    "### 5. 重排链表"
   ]
  },
  {
   "cell_type": "code",
   "execution_count": 79,
   "id": "educational-ghost",
   "metadata": {},
   "outputs": [],
   "source": [
    "class Solution:\n",
    "    def reorderList(self, head:ListNode) -> ListNode:\n",
    "        stack = []\n",
    "        pre = head\n",
    "        while pre:\n",
    "            stack.append(pre)\n",
    "            pre = pre.next\n",
    "        pre = head\n",
    "        k = len(stack) // 2\n",
    "        while k:\n",
    "            k -= 1\n",
    "            ln = stack.pop()\n",
    "            ln.next = pre.next\n",
    "            pre.next = ln\n",
    "            pre = ln.next\n",
    "        pre.next = None\n",
    "        return head"
   ]
  },
  {
   "cell_type": "code",
   "execution_count": 80,
   "id": "fatty-villa",
   "metadata": {},
   "outputs": [
    {
     "name": "stdout",
     "output_type": "stream",
     "text": [
      "1\n",
      "4\n",
      "2\n",
      "3\n"
     ]
    }
   ],
   "source": [
    "l1 = ListNode(1)\n",
    "l1.next = ListNode(2)\n",
    "l1.next.next = ListNode(3)\n",
    "l1.next.next.next = ListNode(4)\n",
    "\n",
    "res = Solution().reorderList(l1)\n",
    "while res:\n",
    "    print(res.val)\n",
    "    res = res.next"
   ]
  },
  {
   "cell_type": "markdown",
   "id": "boring-panel",
   "metadata": {},
   "source": [
    "### 6. 环路检测"
   ]
  },
  {
   "cell_type": "code",
   "execution_count": 82,
   "id": "maritime-skirt",
   "metadata": {},
   "outputs": [],
   "source": [
    "class Solution:\n",
    "    def detectCycle(self, head: ListNode) -> ListNode:\n",
    "        if not head or not head.next: return None\n",
    "        fast = head\n",
    "        slow = head\n",
    "        fast = fast.next\n",
    "        while fast != slow:\n",
    "            if not fast or not fast.next or not fast.next.next:\n",
    "                return None\n",
    "            fast = fast.next.next\n",
    "            slow = slow.next\n",
    "        slow = slow.next \n",
    "        pre = head\n",
    "        while pre != slow:\n",
    "            pre = pre.next\n",
    "            slow = slow.next\n",
    "        return pre"
   ]
  },
  {
   "cell_type": "markdown",
   "id": "victorian-tamil",
   "metadata": {},
   "source": [
    "### 7. 设计链表"
   ]
  },
  {
   "cell_type": "code",
   "execution_count": 92,
   "id": "creative-angle",
   "metadata": {},
   "outputs": [
    {
     "name": "stdout",
     "output_type": "stream",
     "text": [
      "[1, 3, 2]\n"
     ]
    }
   ],
   "source": [
    "class ListNode:\n",
    "    def __init__(self, x):\n",
    "        self.val = x\n",
    "        self.next = None\n",
    "\n",
    "class MyLinkedList:\n",
    "\n",
    "    def __init__(self):\n",
    "        self.head = None\n",
    "    \n",
    "    def node_print(self, head):\n",
    "        if not head:\n",
    "            print(\"Null\")\n",
    "            return\n",
    "        node_list = []\n",
    "        while head:\n",
    "            node_list.append(head.val)\n",
    "            head = head.next\n",
    "        print(node_list)\n",
    "        return\n",
    "\n",
    "    def get(self, index: int) -> int:\n",
    "        tmp = self.head\n",
    "        for _ in range(index):\n",
    "            tmp = tmp.next\n",
    "            if not tmp: return -1\n",
    "        return tmp.val\n",
    "\n",
    "\n",
    "    def addAtHead(self, val: int) -> None:\n",
    "        if not self.head:\n",
    "            self.head = ListNode(val)\n",
    "            return\n",
    "        new_node = ListNode(va)\n",
    "        new_node.next = self.head\n",
    "        self.head = new_node\n",
    "        return\n",
    "\n",
    "    def addAtTail(self, val: int) -> None:\n",
    "        if not self.head:\n",
    "            self.head = ListNode(val)\n",
    "            return\n",
    "        tmp = self.head\n",
    "        while tmp.next:\n",
    "            tmp = tmp.next\n",
    "        tmp.next = ListNode(val)\n",
    "        return\n",
    "\n",
    "    def addAtIndex(self, index: int, val: int) -> None:\n",
    "        if not self.head:\n",
    "            self.head = ListNode(val)\n",
    "        else:\n",
    "            tmp = self.head\n",
    "            for _ in range(index):\n",
    "                if not tmp: return\n",
    "                tmp = tmp.next\n",
    "            if tmp.next:\n",
    "                tmp1 = tmp.next\n",
    "                tmp.next = ListNode(val)\n",
    "                tmp.next.next = tmp1\n",
    "            else:\n",
    "                tmp.next = ListNode(val)\n",
    "        return\n",
    "\n",
    "    def deleteAtIndex(self, index: int) -> None:\n",
    "        if index == 0:\n",
    "            tmp = self.head\n",
    "            self.head = self.head.next\n",
    "            tmp.next = None\n",
    "            return\n",
    "        tmp = self.head\n",
    "        for _ in range(index + 1):\n",
    "            tmp = tmp.next\n",
    "            if not tmp.next: return\n",
    "        if tmp.next:\n",
    "            tmp.next = tmp.next.next\n",
    "        else:\n",
    "            tmp.next = None\n",
    "        return\n",
    "\n",
    "obj = MyLinkedList()\n",
    "obj.addAtHead(1)\n",
    "obj.addAtTail(3)\n",
    "obj.addAtIndex(1,2)\n",
    "param_1 = obj.get(1)\n",
    "obj.deleteAtIndex(1)\n",
    "# param_1 = obj.get(1)\n",
    "obj.node_print(obj.head)"
   ]
  },
  {
   "cell_type": "markdown",
   "id": "growing-equation",
   "metadata": {},
   "source": [
    "### 8. 删除链表中的节点"
   ]
  },
  {
   "cell_type": "code",
   "execution_count": 93,
   "id": "classified-completion",
   "metadata": {},
   "outputs": [],
   "source": [
    "class Solution:\n",
    "    def deleteNode(self, head: ListNode, val: int) -> ListNode:\n",
    "        if head.val == val: return head.next\n",
    "        pre, cur = head, head\n",
    "        while cur and cur.val != val:\n",
    "            pre, cur = cur, cur.next\n",
    "        if cur:\n",
    "            pre.next = cur.next\n",
    "        return head"
   ]
  },
  {
   "cell_type": "markdown",
   "id": "thorough-primary",
   "metadata": {},
   "source": [
    "### 9. 分隔链表"
   ]
  },
  {
   "cell_type": "code",
   "execution_count": null,
   "id": "worth-nashville",
   "metadata": {},
   "outputs": [],
   "source": []
  },
  {
   "cell_type": "markdown",
   "id": "photographic-movie",
   "metadata": {},
   "source": [
    "### 10. 分割链表"
   ]
  },
  {
   "cell_type": "code",
   "execution_count": null,
   "id": "systematic-destination",
   "metadata": {},
   "outputs": [],
   "source": []
  },
  {
   "cell_type": "markdown",
   "id": "burning-vacation",
   "metadata": {},
   "source": [
    "### 11. 第K个语法符号"
   ]
  },
  {
   "cell_type": "code",
   "execution_count": null,
   "id": "painted-cycle",
   "metadata": {},
   "outputs": [],
   "source": []
  },
  {
   "cell_type": "markdown",
   "id": "serial-serial",
   "metadata": {},
   "source": [
    "### 12. 斐波那契数列 "
   ]
  },
  {
   "cell_type": "code",
   "execution_count": null,
   "id": "gross-wright",
   "metadata": {},
   "outputs": [],
   "source": []
  }
 ],
 "metadata": {
  "kernelspec": {
   "display_name": "Python 3",
   "language": "python",
   "name": "python3"
  },
  "language_info": {
   "codemirror_mode": {
    "name": "ipython",
    "version": 3
   },
   "file_extension": ".py",
   "mimetype": "text/x-python",
   "name": "python",
   "nbconvert_exporter": "python",
   "pygments_lexer": "ipython3",
   "version": "3.8.0"
  }
 },
 "nbformat": 4,
 "nbformat_minor": 5
}
